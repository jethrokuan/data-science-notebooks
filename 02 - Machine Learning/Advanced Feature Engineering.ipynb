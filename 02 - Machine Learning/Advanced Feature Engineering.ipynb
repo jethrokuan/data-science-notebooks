{
 "cells": [
  {
   "cell_type": "markdown",
   "metadata": {},
   "source": [
    "# Advanced Feature Engineering"
   ]
  },
  {
   "cell_type": "markdown",
   "metadata": {},
   "source": [
    "This worksheet goes through advanced feature engineering, specifically for text."
   ]
  },
  {
   "cell_type": "markdown",
   "metadata": {},
   "source": [
    "## Latent Semantic Analysis (LSA)"
   ]
  },
  {
   "cell_type": "code",
   "execution_count": 4,
   "metadata": {},
   "outputs": [],
   "source": [
    "from sklearn.feature_extraction.text import TfidfVectorizer\n",
    "from sklearn.decomposition import TruncatedSVD\n",
    "\n",
    "def latent_semantic_analysis(docs):\n",
    "    tfidf = TfidfVectorizer() # using default params\n",
    "    tfidf.fit(docs) # Creating dictionary\n",
    "    vecs = tfidf.transform(docs) # Using dictionary to vectorize documents\n",
    "    svd = TruncatedSVD(n_components=100) # Generating top 100 components\n",
    "    svd.fit(vecs) # create SVD matrices\n",
    "    return svd.transform(vecs) # Use LSA to vectorize documents"
   ]
  },
  {
   "cell_type": "code",
   "execution_count": 1,
   "metadata": {},
   "outputs": [],
   "source": [
    "from sklearn.datasets import fetch_20newsgroups\n",
    "newsgroups_train =fetch_20newsgroups(subset='train')"
   ]
  },
  {
   "cell_type": "code",
   "execution_count": 5,
   "metadata": {},
   "outputs": [
    {
     "data": {
      "text/plain": [
       "array([[  2.49727052e-01,  -6.94289473e-02,  -1.31116562e-02, ...,\n",
       "          6.60643460e-03,  -1.53582571e-02,  -3.92809110e-03],\n",
       "       [  1.39991804e-01,  -7.67136144e-02,  -3.97582007e-02, ...,\n",
       "          1.93868388e-02,   4.74816098e-02,  -2.61638745e-02],\n",
       "       [  3.71842551e-01,  -4.14278553e-02,  -6.70927815e-02, ...,\n",
       "         -1.85374081e-03,   1.31141932e-02,   2.60122555e-02],\n",
       "       ..., \n",
       "       [  1.84768111e-01,  -6.11303637e-03,  -8.03916601e-02, ...,\n",
       "          8.02409181e-03,   2.09608120e-02,  -8.68951618e-03],\n",
       "       [  1.87958069e-01,  -6.60668898e-02,   4.15762044e-02, ...,\n",
       "          2.52229408e-02,   3.03755239e-02,   4.08418272e-02],\n",
       "       [  8.23169690e-02,  -9.08059518e-02,   3.72872349e-03, ...,\n",
       "          7.94479273e-03,  -3.14019836e-02,  -5.84739850e-05]])"
      ]
     },
     "execution_count": 5,
     "metadata": {},
     "output_type": "execute_result"
    }
   ],
   "source": [
    "latent_semantic_analysis(newsgroups_train.data)"
   ]
  },
  {
   "cell_type": "markdown",
   "metadata": {},
   "source": [
    "# Latent Dirichlet Analysis (LDA)"
   ]
  },
  {
   "cell_type": "markdown",
   "metadata": {},
   "source": [
    "We attempt to run LDA on the newsgroups_train data:"
   ]
  },
  {
   "cell_type": "code",
   "execution_count": 4,
   "metadata": {},
   "outputs": [
    {
     "name": "stdout",
     "output_type": "stream",
     "text": [
      "[\"From: lerxst@wam.umd.edu (where's my thing)\\nSubject: WHAT car is this!?\\nNntp-Posting-Host: rac3.wam.umd.edu\\nOrganization: University of Maryland, College Park\\nLines: 15\\n\\n I was wondering if anyone out there could enlighten me on this car I saw\\nthe other day. It was a 2-door sports car, looked to be from the late 60s/\\nearly 70s. It was called a Bricklin. The doors were really small. In addition,\\nthe front bumper was separate from the rest of the body. This is \\nall I know. If anyone can tellme a model name, engine specs, years\\nof production, where this car is made, history, or whatever info you\\nhave on this funky looking car, please e-mail.\\n\\nThanks,\\n- IL\\n   ---- brought to you by your neighborhood Lerxst ----\\n\\n\\n\\n\\n\", \"From: guykuo@carson.u.washington.edu (Guy Kuo)\\nSubject: SI Clock Poll - Final Call\\nSummary: Final call for SI clock reports\\nKeywords: SI,acceleration,clock,upgrade\\nArticle-I.D.: shelley.1qvfo9INNc3s\\nOrganization: University of Washington\\nLines: 11\\nNNTP-Posting-Host: carson.u.washington.edu\\n\\nA fair number of brave souls who upgraded their SI clock oscillator have\\nshared their experiences for this poll. Please send a brief message detailing\\nyour experiences with the procedure. Top speed attained, CPU rated speed,\\nadd on cards and adapters, heat sinks, hour of usage per day, floppy disk\\nfunctionality with 800 and 1.4 m floppies are especially requested.\\n\\nI will be summarizing in the next two days, so please add to the network\\nknowledge base if you have done the clock upgrade and haven't answered this\\npoll. Thanks.\\n\\nGuy Kuo <guykuo@u.washington.edu>\\n\", 'From: twillis@ec.ecn.purdue.edu (Thomas E Willis)\\nSubject: PB questions...\\nOrganization: Purdue University Engineering Computer Network\\nDistribution: usa\\nLines: 36\\n\\nwell folks, my mac plus finally gave up the ghost this weekend after\\nstarting life as a 512k way back in 1985.  sooo, i\\'m in the market for a\\nnew machine a bit sooner than i intended to be...\\n\\ni\\'m looking into picking up a powerbook 160 or maybe 180 and have a bunch\\nof questions that (hopefully) somebody can answer:\\n\\n* does anybody know any dirt on when the next round of powerbook\\nintroductions are expected?  i\\'d heard the 185c was supposed to make an\\nappearence \"this summer\" but haven\\'t heard anymore on it - and since i\\ndon\\'t have access to macleak, i was wondering if anybody out there had\\nmore info...\\n\\n* has anybody heard rumors about price drops to the powerbook line like the\\nones the duo\\'s just went through recently?\\n\\n* what\\'s the impression of the display on the 180?  i could probably swing\\na 180 if i got the 80Mb disk rather than the 120, but i don\\'t really have\\na feel for how much \"better\" the display is (yea, it looks great in the\\nstore, but is that all \"wow\" or is it really that good?).  could i solicit\\nsome opinions of people who use the 160 and 180 day-to-day on if its worth\\ntaking the disk size and money hit to get the active display?  (i realize\\nthis is a real subjective question, but i\\'ve only played around with the\\nmachines in a computer store breifly and figured the opinions of somebody\\nwho actually uses the machine daily might prove helpful).\\n\\n* how well does hellcats perform?  ;)\\n\\nthanks a bunch in advance for any info - if you could email, i\\'ll post a\\nsummary (news reading time is at a premium with finals just around the\\ncorner... :( )\\n--\\nTom Willis  \\\\  twillis@ecn.purdue.edu    \\\\    Purdue Electrical Engineering\\n---------------------------------------------------------------------------\\n\"Convictions are more dangerous enemies of truth than lies.\"  - F. W.\\nNietzsche\\n', 'From: jgreen@amber (Joe Green)\\nSubject: Re: Weitek P9000 ?\\nOrganization: Harris Computer Systems Division\\nLines: 14\\nDistribution: world\\nNNTP-Posting-Host: amber.ssd.csd.harris.com\\nX-Newsreader: TIN [version 1.1 PL9]\\n\\nRobert J.C. Kyanko (rob@rjck.UUCP) wrote:\\n> abraxis@iastate.edu writes in article <abraxis.734340159@class1.iastate.edu>:\\n> > Anyone know about the Weitek P9000 graphics chip?\\n> As far as the low-level stuff goes, it looks pretty nice.  It\\'s got this\\n> quadrilateral fill command that requires just the four points.\\n\\nDo you have Weitek\\'s address/phone number?  I\\'d like to get some information\\nabout this chip.\\n\\n--\\nJoe Green\\t\\t\\t\\tHarris Corporation\\njgreen@csd.harris.com\\t\\t\\tComputer Systems Division\\n\"The only thing that really scares me is a person with no sense of humor.\"\\n\\t\\t\\t\\t\\t\\t-- Jonathan Winters\\n']\n"
     ]
    }
   ],
   "source": [
    "data = newsgroups_train.data\n",
    "data = data[:100]\n",
    "print(data[:4])"
   ]
  },
  {
   "cell_type": "markdown",
   "metadata": {},
   "source": [
    "## Cleaning the data"
   ]
  },
  {
   "cell_type": "markdown",
   "metadata": {},
   "source": [
    "We first tokenize it into words:"
   ]
  },
  {
   "cell_type": "code",
   "execution_count": 21,
   "metadata": {},
   "outputs": [
    {
     "name": "stdout",
     "output_type": "stream",
     "text": [
      "['from', ':', 'lerxst', '@', 'wam.umd.edu', '(', 'where', \"'s\", 'my', 'thing', ')', 'subject', ':', 'what', 'car', 'is', 'this', '!', '?', 'nntp-posting-host', ':', 'rac3.wam.umd.edu', 'organization', ':', 'university', 'of', 'maryland', ',', 'college', 'park', 'lines', ':', '15', 'i', 'was', 'wondering', 'if', 'anyone', 'out', 'there', 'could', 'enlighten', 'me', 'on', 'this', 'car', 'i', 'saw', 'the', 'other', 'day', '.', 'it', 'was', 'a', '2-door', 'sports', 'car', ',', 'looked', 'to', 'be', 'from', 'the', 'late', '60s/', 'early', '70s', '.', 'it', 'was', 'called', 'a', 'bricklin', '.', 'the', 'doors', 'were', 'really', 'small', '.', 'in', 'addition', ',', 'the', 'front', 'bumper', 'was', 'separate', 'from', 'the', 'rest', 'of', 'the', 'body', '.', 'this', 'is', 'all', 'i', 'know', '.', 'if', 'anyone', 'can', 'tellme', 'a', 'model', 'name', ',', 'engine', 'specs', ',', 'years', 'of', 'production', ',', 'where', 'this', 'car', 'is', 'made', ',', 'history', ',', 'or', 'whatever', 'info', 'you', 'have', 'on', 'this', 'funky', 'looking', 'car', ',', 'please', 'e-mail', '.', 'thanks', ',', '-', 'il', '--', '--', 'brought', 'to', 'you', 'by', 'your', 'neighborhood', 'lerxst', '--', '--']\n"
     ]
    }
   ],
   "source": [
    "import nltk\n",
    "from nltk import word_tokenize\n",
    "doc_words = [word_tokenize(doc) for doc in data]\n",
    "\n",
    "def to_lower(doc):\n",
    "    return [word.lower() for word in doc]\n",
    "\n",
    "doc_words = list(map(to_lower, doc_words))\n",
    "print(doc_words[0])"
   ]
  },
  {
   "cell_type": "markdown",
   "metadata": {},
   "source": [
    "next, we remove anything that's not a word:"
   ]
  },
  {
   "cell_type": "code",
   "execution_count": 22,
   "metadata": {},
   "outputs": [
    {
     "name": "stdout",
     "output_type": "stream",
     "text": [
      "['from', 'lerxst', 'where', 'my', 'thing', 'subject', 'what', 'car', 'is', 'this', 'organization', 'university', 'of', 'maryland', 'college', 'park', 'lines', 'i', 'was', 'wondering', 'if', 'anyone', 'out', 'there', 'could', 'enlighten', 'me', 'on', 'this', 'car', 'i', 'saw', 'the', 'other', 'day', 'it', 'was', 'a', 'sports', 'car', 'looked', 'to', 'be', 'from', 'the', 'late', 'early', 'it', 'was', 'called', 'a', 'bricklin', 'the', 'doors', 'were', 'really', 'small', 'in', 'addition', 'the', 'front', 'bumper', 'was', 'separate', 'from', 'the', 'rest', 'of', 'the', 'body', 'this', 'is', 'all', 'i', 'know', 'if', 'anyone', 'can', 'tellme', 'a', 'model', 'name', 'engine', 'specs', 'years', 'of', 'production', 'where', 'this', 'car', 'is', 'made', 'history', 'or', 'whatever', 'info', 'you', 'have', 'on', 'this', 'funky', 'looking', 'car', 'please', 'thanks', 'il', 'brought', 'to', 'you', 'by', 'your', 'neighborhood', 'lerxst']\n"
     ]
    }
   ],
   "source": [
    "def remove_nonwords(arr):\n",
    "    return [word for word in arr if word.isalpha()]\n",
    "\n",
    "doc_words = list(map(remove_nonwords, doc_words))\n",
    "    \n",
    "print(doc_words[0])"
   ]
  },
  {
   "cell_type": "markdown",
   "metadata": {},
   "source": [
    "next, we remove stop words, which are common english words. We also use a stemmer to extend our list of stopwords."
   ]
  },
  {
   "cell_type": "code",
   "execution_count": 23,
   "metadata": {},
   "outputs": [
    {
     "name": "stdout",
     "output_type": "stream",
     "text": [
      "[nltk_data] Downloading package stopwords to /home/jovyan/nltk_data...\n",
      "[nltk_data]   Package stopwords is already up-to-date!\n",
      "stop words:\n",
      "{'they', 'abov', 'few', \"hadn't\", 'against', 'what', 'be', 'himself', 'she', 'but', 'again', 'for', 'him', \"mustn't\", 'myself', 'through', 'seven', 'whi', 'your', \"it's\", \"shan't\", 'too', \"didn't\", \"couldn't\", 'why', 'own', 'was', 'aren', 'll', \"haven't\", \"she's\", 'hers', 'than', 'the', 'theirs', 'until', 'yourself', 'eight', 'once', 'while', 'both', \"you'd\", \"you'r\", 'yourselves', 'may', 'ourselv', 'from', 'did', 'wasn', 'o', 'one', 'very', 'no', 'who', 'and', 'as', 'won', 'his', 'do', 'if', 'between', 'me', \"should'v\", \"don't\", 'into', 'its', \"you're\", 'their', 'six', 'zero', \"won't\", 'that', 's', 'same', 'y', \"should've\", 'has', 'further', 'are', 'shouldn', 'any', \"shouldn't\", 'so', 've', 'am', 'now', 'we', 'down', 'ten', 'then', 'being', 'a', 'can', 'other', 'herself', 'about', 'beside', 'it', \"aren't\", 'in', 'ourselves', 't', 'two', 'ain', 'mustn', \"you've\", \"needn't\", 'those', 'more', 'shan', 'yours', 'up', 'under', 'howev', 'during', 'before', 'at', 'veri', 'ani', 'should', 'such', 'ours', 'when', 'whom', 'onc', 'onli', 'hasn', 'her', 'which', 'there', 'nor', 'over', 'below', 'i', 'not', 'out', 'hadn', 'just', 'three', 'within', 'with', 'doing', 'have', 'itself', \"you'v\", 'haven', 'after', 'needn', 'does', 'will', 'you', 'above', 'among', 'dure', 'nine', 'them', 'wouldn', 'four', 're', \"weren't\", 'some', \"you'll\", 'doesn', 'across', 'besid', \"hasn't\", \"wasn't\", 'doe', 'm', \"doesn't\", 'is', 'however', 'all', 'd', 'themselv', 'ma', 'isn', \"isn't\", 'my', 'each', 'mightn', 'didn', 'here', 'yourselv', 'had', 'on', 'themselves', 'where', 'because', 'weren', 'an', 'were', 'five', 'most', 'been', 'how', 'by', 'our', 'these', 'to', 'befor', 'having', 'yet', 'don', 'of', \"mightn't\", \"wouldn't\", 'off', 'this', 'or', \"that'll\", 'couldn', 'only', 'also', 'becaus', 'he'}\n",
      "['lerxst', 'thing', 'subject', 'car', 'organization', 'university', 'maryland', 'college', 'park', 'lines', 'wondering', 'anyone', 'could', 'enlighten', 'car', 'saw', 'day', 'sports', 'car', 'looked', 'late', 'early', 'called', 'bricklin', 'doors', 'really', 'small', 'addition', 'front', 'bumper', 'separate', 'rest', 'body', 'know', 'anyone', 'tellme', 'model', 'name', 'engine', 'specs', 'years', 'production', 'car', 'made', 'history', 'whatever', 'info', 'funky', 'looking', 'car', 'please', 'thanks', 'il', 'brought', 'neighborhood', 'lerxst']\n"
     ]
    }
   ],
   "source": [
    "import nltk\n",
    "from nltk.corpus import stopwords\n",
    "from snowballstemmer import EnglishStemmer\n",
    "\n",
    "nltk.download('stopwords')\n",
    "stemmer = EnglishStemmer()\n",
    "stop = stopwords.words('english')\n",
    "stop.extend(['may','also','zero','one','two','three','four','five','six','seven','eight','nine','ten','across','among','beside','however','yet','within'])\n",
    "stoplist = stemmer.stemWords(stop)\n",
    "stoplist = set(stoplist)\n",
    "stop = set(sorted(stop + list(stoplist)))\n",
    "print(\"stop words:\")\n",
    "print(stop)\n",
    "\n",
    "def remove_stopwords(doc):\n",
    "    return [word for word in doc if not word in stop]\n",
    "\n",
    "doc_words = list(map(remove_stopwords, doc_words))\n",
    "print(doc_words[0])\n",
    "\n"
   ]
  },
  {
   "cell_type": "code",
   "execution_count": 24,
   "metadata": {},
   "outputs": [],
   "source": [
    "from gensim.models.ldamodel import LdaModel"
   ]
  },
  {
   "cell_type": "code",
   "execution_count": 25,
   "metadata": {},
   "outputs": [],
   "source": [
    "from gensim import corpora\n",
    "dictionary = corpora.Dictionary(doc_words)"
   ]
  },
  {
   "cell_type": "code",
   "execution_count": 26,
   "metadata": {},
   "outputs": [
    {
     "name": "stdout",
     "output_type": "stream",
     "text": [
      "Dictionary(5296 unique tokens: ['addition', 'anyone', 'body', 'bricklin', 'brought']...)\n"
     ]
    }
   ],
   "source": [
    "print(dictionary)"
   ]
  },
  {
   "cell_type": "markdown",
   "metadata": {},
   "source": [
    "next, we convert tokenized documents into a document-term matrix:"
   ]
  },
  {
   "cell_type": "code",
   "execution_count": 28,
   "metadata": {},
   "outputs": [],
   "source": [
    "corpus = [dictionary.doc2bow(text) for text in doc_words]"
   ]
  },
  {
   "cell_type": "code",
   "execution_count": 38,
   "metadata": {},
   "outputs": [],
   "source": [
    "lda = LdaModel(corpus, num_topics=30, id2word=dictionary)"
   ]
  },
  {
   "cell_type": "code",
   "execution_count": 39,
   "metadata": {},
   "outputs": [
    {
     "name": "stdout",
     "output_type": "stream",
     "text": [
      "[(1, '0.010*\"lines\" + 0.010*\"subject\" + 0.009*\"organization\" + 0.007*\"car\" + 0.006*\"really\"'), (18, '0.006*\"know\" + 0.006*\"subject\" + 0.006*\"lines\" + 0.005*\"organization\" + 0.005*\"people\"'), (7, '0.009*\"plants\" + 0.009*\"nuclear\" + 0.008*\"water\" + 0.005*\"acne\" + 0.005*\"get\"'), (6, '0.008*\"subject\" + 0.007*\"lines\" + 0.006*\"organization\" + 0.005*\"university\" + 0.005*\"font\"'), (9, '0.005*\"lines\" + 0.004*\"organization\" + 0.004*\"suresh\" + 0.003*\"power\" + 0.003*\"option\"'), (23, '0.004*\"people\" + 0.003*\"rushdie\" + 0.003*\"root\" + 0.003*\"lines\" + 0.003*\"fatwa\"'), (2, '0.008*\"disease\" + 0.007*\"buy\" + 0.007*\"health\" + 0.007*\"people\" + 0.006*\"article\"'), (22, '0.005*\"armenian\" + 0.004*\"people\" + 0.004*\"conference\" + 0.003*\"russian\" + 0.003*\"jews\"'), (24, '0.005*\"subject\" + 0.005*\"lines\" + 0.004*\"armenians\" + 0.004*\"years\" + 0.004*\"would\"'), (11, '0.007*\"scsi\" + 0.007*\"subject\" + 0.006*\"lines\" + 0.006*\"chip\" + 0.006*\"things\"')]\n"
     ]
    }
   ],
   "source": [
    "print(lda.print_topics(num_topics=10,num_words=5))"
   ]
  },
  {
   "cell_type": "code",
   "execution_count": null,
   "metadata": {},
   "outputs": [],
   "source": []
  }
 ],
 "metadata": {
  "kernelspec": {
   "display_name": "Python 3",
   "language": "python",
   "name": "python3"
  },
  "language_info": {
   "codemirror_mode": {
    "name": "ipython",
    "version": 3
   },
   "file_extension": ".py",
   "mimetype": "text/x-python",
   "name": "python",
   "nbconvert_exporter": "python",
   "pygments_lexer": "ipython3",
   "version": "3.6.3"
  }
 },
 "nbformat": 4,
 "nbformat_minor": 2
}
