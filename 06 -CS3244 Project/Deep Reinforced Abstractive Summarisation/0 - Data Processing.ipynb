{
 "cells": [
  {
   "cell_type": "code",
   "execution_count": 1,
   "metadata": {},
   "outputs": [],
   "source": [
    "PATH = \"/diskA/jethro/cnn/\""
   ]
  },
  {
   "cell_type": "code",
   "execution_count": 2,
   "metadata": {},
   "outputs": [],
   "source": [
    "RAW = f'{PATH}/raw'"
   ]
  },
  {
   "cell_type": "code",
   "execution_count": 3,
   "metadata": {},
   "outputs": [],
   "source": [
    "import os"
   ]
  },
  {
   "cell_type": "code",
   "execution_count": 4,
   "metadata": {},
   "outputs": [],
   "source": [
    "stories = os.listdir(RAW)"
   ]
  },
  {
   "cell_type": "code",
   "execution_count": 5,
   "metadata": {},
   "outputs": [
    {
     "data": {
      "text/plain": [
       "92579"
      ]
     },
     "execution_count": 5,
     "metadata": {},
     "output_type": "execute_result"
    }
   ],
   "source": [
    "len(stories)"
   ]
  },
  {
   "cell_type": "code",
   "execution_count": 6,
   "metadata": {},
   "outputs": [],
   "source": [
    "STORY_LENGTH          = 100\n",
    "NUM_SUMMARIES_TO_SAVE = 1"
   ]
  },
  {
   "cell_type": "code",
   "execution_count": 7,
   "metadata": {},
   "outputs": [],
   "source": [
    "processed_stories = []\n",
    "for s in stories:\n",
    "    tt = open(f'{RAW}/{s}').readlines()\n",
    "    tt = [t.replace(\"-LRB- CNN Student News -RRB- --\", \"\")\n",
    "          .replace(\"-LRB- CNN -RRB- --\", \"\")\n",
    "          .replace(\"-LRB-\", \"\")\n",
    "          .replace(\"-RRB-\", \"\")\n",
    "          .replace(\"''\", '\"')\n",
    "          .replace(\"``\", '\"')\n",
    "          .strip() for t in tt if t != \"\\n\"]\n",
    "    paragraph = []\n",
    "    summary = []\n",
    "    flag = True\n",
    "    for i, t in enumerate(tt):\n",
    "        if t == \"@highlight\":\n",
    "            flag = False\n",
    "            summary.append(tt[i+1])\n",
    "        elif flag:\n",
    "            paragraph.append(t)\n",
    "    paragraph = \" \".join(\" \".join(paragraph).split()[:STORY_LENGTH])\n",
    "    summary = \" \".join(summary[:NUM_SUMMARIES_TO_SAVE])\n",
    "    if len(paragraph.strip()) > 0 and len(summary.strip()) > 0:\n",
    "        processed_stories.append({\n",
    "            \"story\": paragraph,\n",
    "            \"summary\": summary\n",
    "        })"
   ]
  },
  {
   "cell_type": "code",
   "execution_count": 8,
   "metadata": {},
   "outputs": [
    {
     "data": {
      "text/plain": [
       "92465"
      ]
     },
     "execution_count": 8,
     "metadata": {},
     "output_type": "execute_result"
    }
   ],
   "source": [
    "len(processed_stories)"
   ]
  },
  {
   "cell_type": "code",
   "execution_count": 9,
   "metadata": {},
   "outputs": [],
   "source": [
    "import pandas as pd"
   ]
  },
  {
   "cell_type": "code",
   "execution_count": 10,
   "metadata": {},
   "outputs": [],
   "source": [
    "df = pd.DataFrame(processed_stories)"
   ]
  },
  {
   "cell_type": "code",
   "execution_count": 11,
   "metadata": {},
   "outputs": [
    {
     "data": {
      "text/html": [
       "<div>\n",
       "<style scoped>\n",
       "    .dataframe tbody tr th:only-of-type {\n",
       "        vertical-align: middle;\n",
       "    }\n",
       "\n",
       "    .dataframe tbody tr th {\n",
       "        vertical-align: top;\n",
       "    }\n",
       "\n",
       "    .dataframe thead th {\n",
       "        text-align: right;\n",
       "    }\n",
       "</style>\n",
       "<table border=\"1\" class=\"dataframe\">\n",
       "  <thead>\n",
       "    <tr style=\"text-align: right;\">\n",
       "      <th></th>\n",
       "      <th>story</th>\n",
       "      <th>summary</th>\n",
       "    </tr>\n",
       "  </thead>\n",
       "  <tbody>\n",
       "    <tr>\n",
       "      <th>0</th>\n",
       "      <td>Fort Hood , Texas The shooting at Fort Hood wa...</td>\n",
       "      <td>NEW : Pfc. Lance Aviles says he was ordered to...</td>\n",
       "    </tr>\n",
       "    <tr>\n",
       "      <th>1</th>\n",
       "      <td>WikiLeaks founder Julian Assange is trying to ...</td>\n",
       "      <td>Julian Assange is seeking to avoid extradition...</td>\n",
       "    </tr>\n",
       "    <tr>\n",
       "      <th>2</th>\n",
       "      <td>The news that Scotland has rejected independen...</td>\n",
       "      <td>Hammond : UK allies will breathe sigh of relie...</td>\n",
       "    </tr>\n",
       "    <tr>\n",
       "      <th>3</th>\n",
       "      <td>BP plans to continue using a controversial sub...</td>\n",
       "      <td>EPA says it \" will continue to work over the n...</td>\n",
       "    </tr>\n",
       "    <tr>\n",
       "      <th>4</th>\n",
       "      <td>Barcelona may be licking their wounds after a ...</td>\n",
       "      <td>Barcelona 's Eric Abidal is given the all clea...</td>\n",
       "    </tr>\n",
       "  </tbody>\n",
       "</table>\n",
       "</div>"
      ],
      "text/plain": [
       "                                               story  \\\n",
       "0  Fort Hood , Texas The shooting at Fort Hood wa...   \n",
       "1  WikiLeaks founder Julian Assange is trying to ...   \n",
       "2  The news that Scotland has rejected independen...   \n",
       "3  BP plans to continue using a controversial sub...   \n",
       "4  Barcelona may be licking their wounds after a ...   \n",
       "\n",
       "                                             summary  \n",
       "0  NEW : Pfc. Lance Aviles says he was ordered to...  \n",
       "1  Julian Assange is seeking to avoid extradition...  \n",
       "2  Hammond : UK allies will breathe sigh of relie...  \n",
       "3  EPA says it \" will continue to work over the n...  \n",
       "4  Barcelona 's Eric Abidal is given the all clea...  "
      ]
     },
     "execution_count": 11,
     "metadata": {},
     "output_type": "execute_result"
    }
   ],
   "source": [
    "df.head()"
   ]
  },
  {
   "cell_type": "code",
   "execution_count": 12,
   "metadata": {},
   "outputs": [
    {
     "data": {
      "text/html": [
       "<div>\n",
       "<style scoped>\n",
       "    .dataframe tbody tr th:only-of-type {\n",
       "        vertical-align: middle;\n",
       "    }\n",
       "\n",
       "    .dataframe tbody tr th {\n",
       "        vertical-align: top;\n",
       "    }\n",
       "\n",
       "    .dataframe thead th {\n",
       "        text-align: right;\n",
       "    }\n",
       "</style>\n",
       "<table border=\"1\" class=\"dataframe\">\n",
       "  <thead>\n",
       "    <tr style=\"text-align: right;\">\n",
       "      <th></th>\n",
       "      <th>story</th>\n",
       "      <th>summary</th>\n",
       "    </tr>\n",
       "  </thead>\n",
       "  <tbody>\n",
       "    <tr>\n",
       "      <th>count</th>\n",
       "      <td>92465</td>\n",
       "      <td>92465</td>\n",
       "    </tr>\n",
       "    <tr>\n",
       "      <th>unique</th>\n",
       "      <td>89256</td>\n",
       "      <td>88318</td>\n",
       "    </tr>\n",
       "    <tr>\n",
       "      <th>top</th>\n",
       "      <td>ATLANTA , Georgia Seventh graders at Ron Clark...</td>\n",
       "      <td>This page includes the show Transcript</td>\n",
       "    </tr>\n",
       "    <tr>\n",
       "      <th>freq</th>\n",
       "      <td>4</td>\n",
       "      <td>148</td>\n",
       "    </tr>\n",
       "  </tbody>\n",
       "</table>\n",
       "</div>"
      ],
      "text/plain": [
       "                                                    story  \\\n",
       "count                                               92465   \n",
       "unique                                              89256   \n",
       "top     ATLANTA , Georgia Seventh graders at Ron Clark...   \n",
       "freq                                                    4   \n",
       "\n",
       "                                       summary  \n",
       "count                                    92465  \n",
       "unique                                   88318  \n",
       "top     This page includes the show Transcript  \n",
       "freq                                       148  "
      ]
     },
     "execution_count": 12,
     "metadata": {},
     "output_type": "execute_result"
    }
   ],
   "source": [
    "df.describe()"
   ]
  },
  {
   "cell_type": "code",
   "execution_count": 21,
   "metadata": {},
   "outputs": [
    {
     "data": {
      "text/plain": [
       "'Fort Hood , Texas The shooting at Fort Hood was captured on video by a soldier using his cell phone camera as he hid from the shooter , but he was ordered to erase it , the soldier said Friday . Pfc. Lance Aviles spoke of the video as he testified on the third day of the Article 32 military hearing for Maj. Nidal Hasan , who is accused of killing 13 people and wounding 32 in the November 2009 shooting . Aviles said he was told by a non-commissioned officer , who Aviles said was acting on the orders'"
      ]
     },
     "execution_count": 21,
     "metadata": {},
     "output_type": "execute_result"
    }
   ],
   "source": [
    "df.iloc(0)[0][0]"
   ]
  },
  {
   "cell_type": "code",
   "execution_count": 22,
   "metadata": {},
   "outputs": [],
   "source": [
    "df.to_feather(f'{PATH}/stories.feather')"
   ]
  },
  {
   "cell_type": "code",
   "execution_count": 23,
   "metadata": {},
   "outputs": [],
   "source": [
    "from sklearn.model_selection import train_test_split"
   ]
  },
  {
   "cell_type": "code",
   "execution_count": 24,
   "metadata": {},
   "outputs": [],
   "source": [
    "train, test = train_test_split(df, test_size=0.2)\n",
    "test, valid = train_test_split(test, test_size=0.2)"
   ]
  },
  {
   "cell_type": "code",
   "execution_count": 25,
   "metadata": {},
   "outputs": [],
   "source": [
    "train = train.reset_index()\n",
    "train.to_feather(f'{PATH}/train.feather')"
   ]
  },
  {
   "cell_type": "code",
   "execution_count": 26,
   "metadata": {},
   "outputs": [],
   "source": [
    "test = test.reset_index()\n",
    "test.to_feather(f'{PATH}/test.feather')"
   ]
  },
  {
   "cell_type": "code",
   "execution_count": 27,
   "metadata": {},
   "outputs": [],
   "source": [
    "valid = valid.reset_index()\n",
    "valid.to_feather(f'{PATH}/valid.feather')"
   ]
  },
  {
   "cell_type": "code",
   "execution_count": 28,
   "metadata": {},
   "outputs": [],
   "source": [
    "train.to_csv(f'{PATH}/train.tsv', sep=\"\\t\", columns=[\"story\", \"summary\"], index=False, header=False)"
   ]
  },
  {
   "cell_type": "code",
   "execution_count": 29,
   "metadata": {},
   "outputs": [],
   "source": [
    "test.to_csv(f'{PATH}/test.tsv', sep=\"\\t\", columns=[\"story\", \"summary\"], index=False, header=False)"
   ]
  },
  {
   "cell_type": "code",
   "execution_count": 30,
   "metadata": {},
   "outputs": [],
   "source": [
    "valid.to_csv(f'{PATH}/valid.tsv', sep=\"\\t\", columns=[\"story\", \"summary\"], index=False, header=False)"
   ]
  },
  {
   "cell_type": "code",
   "execution_count": 31,
   "metadata": {},
   "outputs": [
    {
     "data": {
      "text/plain": [
       "(73972, 14794, 3699)"
      ]
     },
     "execution_count": 31,
     "metadata": {},
     "output_type": "execute_result"
    }
   ],
   "source": [
    "len(train), len(test), len(valid)"
   ]
  },
  {
   "cell_type": "code",
   "execution_count": null,
   "metadata": {},
   "outputs": [],
   "source": []
  }
 ],
 "metadata": {
  "kernelspec": {
   "display_name": "Python 3",
   "language": "python",
   "name": "python3"
  },
  "language_info": {
   "codemirror_mode": {
    "name": "ipython",
    "version": 3
   },
   "file_extension": ".py",
   "mimetype": "text/x-python",
   "name": "python",
   "nbconvert_exporter": "python",
   "pygments_lexer": "ipython3",
   "version": "3.6.4"
  }
 },
 "nbformat": 4,
 "nbformat_minor": 2
}
