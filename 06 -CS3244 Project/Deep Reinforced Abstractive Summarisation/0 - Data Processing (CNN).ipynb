{
 "cells": [
  {
   "cell_type": "code",
   "execution_count": 45,
   "metadata": {},
   "outputs": [],
   "source": [
    "PATH = \"/diskA/jethro/cnn/\"\n",
    "RAW = f'{PATH}/raw'"
   ]
  },
  {
   "cell_type": "code",
   "execution_count": 46,
   "metadata": {},
   "outputs": [],
   "source": [
    "import pandas as pd\n",
    "import os\n",
    "from tqdm import tqdm_notebook"
   ]
  },
  {
   "cell_type": "code",
   "execution_count": 47,
   "metadata": {},
   "outputs": [
    {
     "data": {
      "text/plain": [
       "92579"
      ]
     },
     "execution_count": 47,
     "metadata": {},
     "output_type": "execute_result"
    }
   ],
   "source": [
    "stories = os.listdir(RAW)\n",
    "len(stories)"
   ]
  },
  {
   "cell_type": "markdown",
   "metadata": {},
   "source": [
    "# Processing Stories"
   ]
  },
  {
   "cell_type": "markdown",
   "metadata": {},
   "source": [
    "We limit ourselves to `STORY_LENGTH` because the input sequence size has a direct correlation to the number of parameters in the model. We also pick a small number of summaries because the shorter the input `STORY_LENGTH`, the less probable it is to arrive at the later highlights. "
   ]
  },
  {
   "cell_type": "code",
   "execution_count": 4,
   "metadata": {},
   "outputs": [],
   "source": [
    "STORY_LENGTH          = 100\n",
    "NUM_SUMMARIES_TO_SAVE = 1"
   ]
  },
  {
   "cell_type": "markdown",
   "metadata": {},
   "source": [
    "For processing, we do a few things:\n",
    "\n",
    "1. Remove non-ascii characters.\n",
    "2. Remove the CNN story prepends, because these do not contribute to the summaries at all.\n",
    "3. Replace different quotation marks with normal quotation marks"
   ]
  },
  {
   "cell_type": "code",
   "execution_count": 5,
   "metadata": {},
   "outputs": [],
   "source": [
    "def is_ascii(token):\n",
    "    return all(ord(c) < 138 for c in token)"
   ]
  },
  {
   "cell_type": "code",
   "execution_count": 48,
   "metadata": {},
   "outputs": [],
   "source": [
    "def process_stories(stories):\n",
    "    processed_stories = []\n",
    "    for s in tqdm_notebook(stories):\n",
    "        tt = open(f'{RAW}/{s}').readlines()\n",
    "        tt = [t.replace(\"-LRB- CNN Student News -RRB- --\", \"\")\n",
    "              .replace(\"-LRB- CNN -RRB- --\", \"\")\n",
    "              .replace(\"-LRB-\", \"\")\n",
    "              .replace(\"-RRB-\", \"\")\n",
    "              .replace(\"''\", '\"')\n",
    "              .replace(\"``\", '\"')\n",
    "              .replace(\"NEW :\", \"\")\n",
    "              .strip() for t in tt if t != \"\\n\"]\n",
    "        paragraph = []\n",
    "        summary = []\n",
    "        flag = True\n",
    "        for i, t in enumerate(tt):\n",
    "            if t == \"@highlight\":\n",
    "                flag = False\n",
    "                summary.append(tt[i+1])\n",
    "            elif flag:\n",
    "                paragraph.append(t)\n",
    "        paragraph_tokens = \" \".join(paragraph).split()\n",
    "        summary_tokens = \" \".join(summary[:NUM_SUMMARIES_TO_SAVE]).split()\n",
    "        paragraph_tokens = [token for token in paragraph_tokens if is_ascii(token) and not token.isspace()]\n",
    "        summary_tokens = [token for token in summary_tokens if is_ascii(token) and not token.isspace()]\n",
    "        if paragraph_tokens and summary_tokens:\n",
    "            paragraph = \" \".join(paragraph_tokens[:STORY_LENGTH])\n",
    "            summary = \" \".join(summary_tokens)\n",
    "            processed_stories.append({\n",
    "                \"story\": paragraph,\n",
    "                \"summary\": summary\n",
    "            })\n",
    "    return processed_stories"
   ]
  },
  {
   "cell_type": "code",
   "execution_count": null,
   "metadata": {},
   "outputs": [
    {
     "data": {
      "application/vnd.jupyter.widget-view+json": {
       "model_id": "e5c3fc7ffbc8417ba43f6d039194abbc",
       "version_major": 2,
       "version_minor": 0
      },
      "text/html": [
       "<p>Failed to display Jupyter Widget of type <code>HBox</code>.</p>\n",
       "<p>\n",
       "  If you're reading this message in the Jupyter Notebook or JupyterLab Notebook, it may mean\n",
       "  that the widgets JavaScript is still loading. If this message persists, it\n",
       "  likely means that the widgets JavaScript library is either not installed or\n",
       "  not enabled. See the <a href=\"https://ipywidgets.readthedocs.io/en/stable/user_install.html\">Jupyter\n",
       "  Widgets Documentation</a> for setup instructions.\n",
       "</p>\n",
       "<p>\n",
       "  If you're reading this message in another frontend (for example, a static\n",
       "  rendering on GitHub or <a href=\"https://nbviewer.jupyter.org/\">NBViewer</a>),\n",
       "  it may mean that your frontend doesn't currently support widgets.\n",
       "</p>\n"
      ],
      "text/plain": [
       "HBox(children=(IntProgress(value=0, max=92579), HTML(value='')))"
      ]
     },
     "metadata": {},
     "output_type": "display_data"
    }
   ],
   "source": [
    "processed_stories = process_stories(stories)"
   ]
  },
  {
   "cell_type": "markdown",
   "metadata": {},
   "source": [
    "We then dump everything into a Pandas Dataframe for data exploration."
   ]
  },
  {
   "cell_type": "code",
   "execution_count": 15,
   "metadata": {},
   "outputs": [],
   "source": [
    "df = pd.DataFrame(processed_stories)"
   ]
  },
  {
   "cell_type": "code",
   "execution_count": 16,
   "metadata": {},
   "outputs": [
    {
     "data": {
      "text/html": [
       "<div>\n",
       "<style scoped>\n",
       "    .dataframe tbody tr th:only-of-type {\n",
       "        vertical-align: middle;\n",
       "    }\n",
       "\n",
       "    .dataframe tbody tr th {\n",
       "        vertical-align: top;\n",
       "    }\n",
       "\n",
       "    .dataframe thead th {\n",
       "        text-align: right;\n",
       "    }\n",
       "</style>\n",
       "<table border=\"1\" class=\"dataframe\">\n",
       "  <thead>\n",
       "    <tr style=\"text-align: right;\">\n",
       "      <th></th>\n",
       "      <th>story</th>\n",
       "      <th>summary</th>\n",
       "    </tr>\n",
       "  </thead>\n",
       "  <tbody>\n",
       "    <tr>\n",
       "      <th>0</th>\n",
       "      <td>Fort Hood , Texas The shooting at Fort Hood wa...</td>\n",
       "      <td>NEW : Pfc. Lance Aviles says he was ordered to...</td>\n",
       "    </tr>\n",
       "    <tr>\n",
       "      <th>1</th>\n",
       "      <td>WikiLeaks founder Julian Assange is trying to ...</td>\n",
       "      <td>Julian Assange is seeking to avoid extradition...</td>\n",
       "    </tr>\n",
       "    <tr>\n",
       "      <th>2</th>\n",
       "      <td>The news that Scotland has rejected independen...</td>\n",
       "      <td>Hammond : UK allies will breathe sigh of relie...</td>\n",
       "    </tr>\n",
       "    <tr>\n",
       "      <th>3</th>\n",
       "      <td>BP plans to continue using a controversial sub...</td>\n",
       "      <td>EPA says it \" will continue to work over the n...</td>\n",
       "    </tr>\n",
       "    <tr>\n",
       "      <th>4</th>\n",
       "      <td>Barcelona may be licking their wounds after a ...</td>\n",
       "      <td>Barcelona 's Eric Abidal is given the all clea...</td>\n",
       "    </tr>\n",
       "  </tbody>\n",
       "</table>\n",
       "</div>"
      ],
      "text/plain": [
       "                                               story  \\\n",
       "0  Fort Hood , Texas The shooting at Fort Hood wa...   \n",
       "1  WikiLeaks founder Julian Assange is trying to ...   \n",
       "2  The news that Scotland has rejected independen...   \n",
       "3  BP plans to continue using a controversial sub...   \n",
       "4  Barcelona may be licking their wounds after a ...   \n",
       "\n",
       "                                             summary  \n",
       "0  NEW : Pfc. Lance Aviles says he was ordered to...  \n",
       "1  Julian Assange is seeking to avoid extradition...  \n",
       "2  Hammond : UK allies will breathe sigh of relie...  \n",
       "3  EPA says it \" will continue to work over the n...  \n",
       "4  Barcelona 's Eric Abidal is given the all clea...  "
      ]
     },
     "execution_count": 16,
     "metadata": {},
     "output_type": "execute_result"
    }
   ],
   "source": [
    "df.head()"
   ]
  },
  {
   "cell_type": "code",
   "execution_count": 17,
   "metadata": {},
   "outputs": [
    {
     "data": {
      "text/html": [
       "<div>\n",
       "<style scoped>\n",
       "    .dataframe tbody tr th:only-of-type {\n",
       "        vertical-align: middle;\n",
       "    }\n",
       "\n",
       "    .dataframe tbody tr th {\n",
       "        vertical-align: top;\n",
       "    }\n",
       "\n",
       "    .dataframe thead th {\n",
       "        text-align: right;\n",
       "    }\n",
       "</style>\n",
       "<table border=\"1\" class=\"dataframe\">\n",
       "  <thead>\n",
       "    <tr style=\"text-align: right;\">\n",
       "      <th></th>\n",
       "      <th>story</th>\n",
       "      <th>summary</th>\n",
       "    </tr>\n",
       "  </thead>\n",
       "  <tbody>\n",
       "    <tr>\n",
       "      <th>count</th>\n",
       "      <td>92465</td>\n",
       "      <td>92465</td>\n",
       "    </tr>\n",
       "    <tr>\n",
       "      <th>unique</th>\n",
       "      <td>89255</td>\n",
       "      <td>88318</td>\n",
       "    </tr>\n",
       "    <tr>\n",
       "      <th>top</th>\n",
       "      <td>Leszek Balcerowicz , Poland 's former finance ...</td>\n",
       "      <td>This page includes the show Transcript</td>\n",
       "    </tr>\n",
       "    <tr>\n",
       "      <th>freq</th>\n",
       "      <td>4</td>\n",
       "      <td>148</td>\n",
       "    </tr>\n",
       "  </tbody>\n",
       "</table>\n",
       "</div>"
      ],
      "text/plain": [
       "                                                    story  \\\n",
       "count                                               92465   \n",
       "unique                                              89255   \n",
       "top     Leszek Balcerowicz , Poland 's former finance ...   \n",
       "freq                                                    4   \n",
       "\n",
       "                                       summary  \n",
       "count                                    92465  \n",
       "unique                                   88318  \n",
       "top     This page includes the show Transcript  \n",
       "freq                                       148  "
      ]
     },
     "execution_count": 17,
     "metadata": {},
     "output_type": "execute_result"
    }
   ],
   "source": [
    "df.describe()"
   ]
  },
  {
   "cell_type": "code",
   "execution_count": 23,
   "metadata": {},
   "outputs": [],
   "source": [
    "df.drop_duplicates(subset=[\"story\", \"summary\"], inplace=True)"
   ]
  },
  {
   "cell_type": "code",
   "execution_count": 24,
   "metadata": {},
   "outputs": [],
   "source": [
    "df.dropna(inplace=True)"
   ]
  },
  {
   "cell_type": "code",
   "execution_count": 25,
   "metadata": {},
   "outputs": [
    {
     "data": {
      "text/html": [
       "<div>\n",
       "<style scoped>\n",
       "    .dataframe tbody tr th:only-of-type {\n",
       "        vertical-align: middle;\n",
       "    }\n",
       "\n",
       "    .dataframe tbody tr th {\n",
       "        vertical-align: top;\n",
       "    }\n",
       "\n",
       "    .dataframe thead th {\n",
       "        text-align: right;\n",
       "    }\n",
       "</style>\n",
       "<table border=\"1\" class=\"dataframe\">\n",
       "  <thead>\n",
       "    <tr style=\"text-align: right;\">\n",
       "      <th></th>\n",
       "      <th>story</th>\n",
       "      <th>summary</th>\n",
       "    </tr>\n",
       "  </thead>\n",
       "  <tbody>\n",
       "    <tr>\n",
       "      <th>count</th>\n",
       "      <td>89287</td>\n",
       "      <td>89287</td>\n",
       "    </tr>\n",
       "    <tr>\n",
       "      <th>unique</th>\n",
       "      <td>89255</td>\n",
       "      <td>88318</td>\n",
       "    </tr>\n",
       "    <tr>\n",
       "      <th>top</th>\n",
       "      <td>Congressman Jared Polis D Colorado : District ...</td>\n",
       "      <td>This page includes the show Transcript</td>\n",
       "    </tr>\n",
       "    <tr>\n",
       "      <th>freq</th>\n",
       "      <td>2</td>\n",
       "      <td>148</td>\n",
       "    </tr>\n",
       "  </tbody>\n",
       "</table>\n",
       "</div>"
      ],
      "text/plain": [
       "                                                    story  \\\n",
       "count                                               89287   \n",
       "unique                                              89255   \n",
       "top     Congressman Jared Polis D Colorado : District ...   \n",
       "freq                                                    2   \n",
       "\n",
       "                                       summary  \n",
       "count                                    89287  \n",
       "unique                                   88318  \n",
       "top     This page includes the show Transcript  \n",
       "freq                                       148  "
      ]
     },
     "execution_count": 25,
     "metadata": {},
     "output_type": "execute_result"
    }
   ],
   "source": [
    "df.describe()"
   ]
  },
  {
   "cell_type": "code",
   "execution_count": 26,
   "metadata": {},
   "outputs": [
    {
     "data": {
      "text/plain": [
       "'Fort Hood , Texas The shooting at Fort Hood was captured on video by a soldier using his cell phone camera as he hid from the shooter , but he was ordered to erase it , the soldier said Friday . Pfc. Lance Aviles spoke of the video as he testified on the third day of the Article 32 military hearing for Maj. Nidal Hasan , who is accused of killing 13 people and wounding 32 in the November 2009 shooting . Aviles said he was told by a non-commissioned officer , who Aviles said was acting on the orders'"
      ]
     },
     "execution_count": 26,
     "metadata": {},
     "output_type": "execute_result"
    }
   ],
   "source": [
    "df.iloc(0)[0][0]"
   ]
  },
  {
   "cell_type": "code",
   "execution_count": 28,
   "metadata": {},
   "outputs": [],
   "source": [
    "df = df.reset_index()"
   ]
  },
  {
   "cell_type": "markdown",
   "metadata": {},
   "source": [
    "We save the stories to feather format so it is quick and easy to load later on."
   ]
  },
  {
   "cell_type": "code",
   "execution_count": 29,
   "metadata": {},
   "outputs": [],
   "source": [
    "df.to_feather(f'{PATH}/stories.feather')"
   ]
  },
  {
   "cell_type": "code",
   "execution_count": 30,
   "metadata": {},
   "outputs": [],
   "source": [
    "df = pd.read_feather(f'{PATH}/stories.feather')"
   ]
  },
  {
   "cell_type": "markdown",
   "metadata": {},
   "source": [
    "# Splitting the Dataset"
   ]
  },
  {
   "cell_type": "code",
   "execution_count": 31,
   "metadata": {},
   "outputs": [],
   "source": [
    "from sklearn.model_selection import train_test_split"
   ]
  },
  {
   "cell_type": "code",
   "execution_count": 32,
   "metadata": {},
   "outputs": [],
   "source": [
    "train, test = train_test_split(df, test_size=0.2)\n",
    "test, valid = train_test_split(test, test_size=0.2)"
   ]
  },
  {
   "cell_type": "code",
   "execution_count": 33,
   "metadata": {},
   "outputs": [],
   "source": [
    "train = train.reset_index()\n",
    "train.to_feather(f'{PATH}/train.feather')"
   ]
  },
  {
   "cell_type": "code",
   "execution_count": 34,
   "metadata": {},
   "outputs": [],
   "source": [
    "test = test.reset_index()\n",
    "test.to_feather(f'{PATH}/test.feather')"
   ]
  },
  {
   "cell_type": "code",
   "execution_count": 35,
   "metadata": {},
   "outputs": [],
   "source": [
    "valid = valid.reset_index()\n",
    "valid.to_feather(f'{PATH}/valid.feather')"
   ]
  },
  {
   "cell_type": "code",
   "execution_count": 41,
   "metadata": {},
   "outputs": [],
   "source": [
    "train.to_csv(f'{PATH}/train.tsv', sep=\"\\t\", columns=[\"story\", \"summary\"], index=False, header=False)\n",
    "test.to_csv(f'{PATH}/test.tsv', sep=\"\\t\", columns=[\"story\", \"summary\"], index=False, header=False)\n",
    "valid.to_csv(f'{PATH}/valid.tsv', sep=\"\\t\", columns=[\"story\", \"summary\"], index=False, header=False)"
   ]
  },
  {
   "cell_type": "code",
   "execution_count": 42,
   "metadata": {},
   "outputs": [
    {
     "data": {
      "text/plain": [
       "(71429, 14286, 3572)"
      ]
     },
     "execution_count": 42,
     "metadata": {},
     "output_type": "execute_result"
    }
   ],
   "source": [
    "len(train), len(test), len(valid)"
   ]
  },
  {
   "cell_type": "markdown",
   "metadata": {},
   "source": [
    "We produce a small dataset for quicker iteration."
   ]
  },
  {
   "cell_type": "code",
   "execution_count": 43,
   "metadata": {},
   "outputs": [],
   "source": [
    "SMALL_TRAIN_SIZE = 3000\n",
    "SMALL_TEST_SIZE= 1000\n",
    "SMALL_VALID_SIZE= 1000"
   ]
  },
  {
   "cell_type": "code",
   "execution_count": 44,
   "metadata": {},
   "outputs": [],
   "source": [
    "train[:SMALL_TRAIN_SIZE].to_csv(f'{PATH}/train_small.tsv', sep=\"\\t\", columns=[\"story\", \"summary\"], index=False, header=False)\n",
    "test[:SMALL_TEST_SIZE].to_csv(f'{PATH}/test_small.tsv', sep=\"\\t\", columns=[\"story\", \"summary\"], index=False, header=False)\n",
    "valid[:SMALL_VALID_SIZE].to_csv(f'{PATH}/valid_small.tsv', sep=\"\\t\", columns=[\"story\", \"summary\"], index=False, header=False)"
   ]
  }
 ],
 "metadata": {
  "kernelspec": {
   "display_name": "Python 3",
   "language": "python",
   "name": "python3"
  },
  "language_info": {
   "codemirror_mode": {
    "name": "ipython",
    "version": 3
   },
   "file_extension": ".py",
   "mimetype": "text/x-python",
   "name": "python",
   "nbconvert_exporter": "python",
   "pygments_lexer": "ipython3",
   "version": "3.6.4"
  }
 },
 "nbformat": 4,
 "nbformat_minor": 2
}
