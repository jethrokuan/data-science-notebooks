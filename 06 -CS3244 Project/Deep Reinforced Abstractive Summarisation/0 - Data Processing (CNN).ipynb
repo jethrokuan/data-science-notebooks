{
 "cells": [
  {
   "cell_type": "code",
   "execution_count": 8,
   "metadata": {},
   "outputs": [],
   "source": [
    "PATH = \"/diskA/jethro/cnn/\"\n",
    "RAW = f'{PATH}/raw'"
   ]
  },
  {
   "cell_type": "code",
   "execution_count": 14,
   "metadata": {},
   "outputs": [],
   "source": [
    "import pandas as pd\n",
    "import os\n",
    "from nltk.tokenize import sent_tokenize, word_tokenize\n",
    "from tqdm import tqdm_notebook"
   ]
  },
  {
   "cell_type": "code",
   "execution_count": 15,
   "metadata": {},
   "outputs": [
    {
     "data": {
      "text/plain": [
       "92579"
      ]
     },
     "execution_count": 15,
     "metadata": {},
     "output_type": "execute_result"
    }
   ],
   "source": [
    "stories = os.listdir(RAW)\n",
    "len(stories)"
   ]
  },
  {
   "cell_type": "markdown",
   "metadata": {},
   "source": [
    "# Processing Stories"
   ]
  },
  {
   "cell_type": "markdown",
   "metadata": {},
   "source": [
    "We keep the first two sentences of the article, and use the first highlight to be the summary of the article."
   ]
  },
  {
   "cell_type": "code",
   "execution_count": 16,
   "metadata": {},
   "outputs": [],
   "source": [
    "NUM_SUMMARIES_TO_SAVE = 1\n",
    "NUM_SENTENCES = 2"
   ]
  },
  {
   "cell_type": "markdown",
   "metadata": {},
   "source": [
    "For processing, we do a few things:\n",
    "\n",
    "1. Remove non-ascii characters.\n",
    "2. Remove the CNN story prepends, because these do not contribute to the summaries at all.\n",
    "3. Replace different quotation marks with normal quotation marks"
   ]
  },
  {
   "cell_type": "code",
   "execution_count": 17,
   "metadata": {},
   "outputs": [],
   "source": [
    "def is_ascii(token):\n",
    "    return all(ord(c) < 138 for c in token)"
   ]
  },
  {
   "cell_type": "code",
   "execution_count": 18,
   "metadata": {},
   "outputs": [
    {
     "data": {
      "text/plain": [
       "'First sentence. Second?'"
      ]
     },
     "execution_count": 18,
     "metadata": {},
     "output_type": "execute_result"
    }
   ],
   "source": [
    "def get_sentences(text, count):\n",
    "    \"\"\"Returns `count` sentences from `text`.\"\"\"\n",
    "    tokens = sent_tokenize(text)\n",
    "    return \" \".join(tokens[:count])\n",
    "    \n",
    "get_sentences(\"First sentence. Second? Third.\", 2)"
   ]
  },
  {
   "cell_type": "code",
   "execution_count": 23,
   "metadata": {},
   "outputs": [],
   "source": [
    "def process_story(story):\n",
    "    tt = open(f'{RAW}/{story}').readlines()\n",
    "    tt = [t.replace(\"-LRB- CNN Student News -RRB- --\", \"\")\n",
    "          .replace(\"-LRB- CNN -RRB- --\", \"\")\n",
    "          .replace(\"-LRB-\", \"\")\n",
    "          .replace(\"-RRB-\", \"\")\n",
    "          .replace(\"''\", '\"')\n",
    "          .replace(\"``\", '\"')\n",
    "          .replace(\"NEW :\", \"\")\n",
    "          .strip() for t in tt if t != \"\\n\"]\n",
    "    paragraph = []\n",
    "    summary = []\n",
    "    flag = True\n",
    "    for i, t in enumerate(tt):\n",
    "        if t == \"@highlight\":\n",
    "            flag = False\n",
    "            summary.append(tt[i+1])\n",
    "        elif flag:\n",
    "            paragraph.append(t)\n",
    "    paragraph = \" \".join(paragraph)\n",
    "    summary = \" \".join(summary[:NUM_SUMMARIES_TO_SAVE])\n",
    "    paragraph = get_sentences(paragraph, 2)\n",
    "    paragraph_tokens = word_tokenize(paragraph)\n",
    "    summary_tokens = word_tokenize(summary)\n",
    "    paragraph_tokens = [token for token in paragraph_tokens if is_ascii(token) and not token.isspace()]\n",
    "    summary_tokens = [token for token in summary_tokens if is_ascii(token) and not token.isspace()]\n",
    "    if paragraph_tokens and summary_tokens:\n",
    "        paragraph = \" \".join(paragraph_tokens)\n",
    "        summary = \" \".join(summary_tokens)\n",
    "        return {\n",
    "            \"story\": paragraph,\n",
    "            \"summary\": summary\n",
    "        }\n",
    "    return None"
   ]
  },
  {
   "cell_type": "code",
   "execution_count": 26,
   "metadata": {},
   "outputs": [
    {
     "data": {
      "application/vnd.jupyter.widget-view+json": {
       "model_id": "2dc33a78b696493e9970b6fb534ddb65",
       "version_major": 2,
       "version_minor": 0
      },
      "text/html": [
       "<p>Failed to display Jupyter Widget of type <code>HBox</code>.</p>\n",
       "<p>\n",
       "  If you're reading this message in the Jupyter Notebook or JupyterLab Notebook, it may mean\n",
       "  that the widgets JavaScript is still loading. If this message persists, it\n",
       "  likely means that the widgets JavaScript library is either not installed or\n",
       "  not enabled. See the <a href=\"https://ipywidgets.readthedocs.io/en/stable/user_install.html\">Jupyter\n",
       "  Widgets Documentation</a> for setup instructions.\n",
       "</p>\n",
       "<p>\n",
       "  If you're reading this message in another frontend (for example, a static\n",
       "  rendering on GitHub or <a href=\"https://nbviewer.jupyter.org/\">NBViewer</a>),\n",
       "  it may mean that your frontend doesn't currently support widgets.\n",
       "</p>\n"
      ],
      "text/plain": [
       "HBox(children=(IntProgress(value=0, max=92579), HTML(value='')))"
      ]
     },
     "metadata": {},
     "output_type": "display_data"
    }
   ],
   "source": [
    "processed_stories = []\n",
    "for story in tqdm_notebook(stories):\n",
    "    story = process_story(story)\n",
    "    if story is not None:\n",
    "        processed_stories.append(story)"
   ]
  },
  {
   "cell_type": "markdown",
   "metadata": {},
   "source": [
    "We then dump everything into a Pandas Dataframe for data exploration."
   ]
  },
  {
   "cell_type": "code",
   "execution_count": 27,
   "metadata": {},
   "outputs": [],
   "source": [
    "df = pd.DataFrame(processed_stories)"
   ]
  },
  {
   "cell_type": "code",
   "execution_count": 28,
   "metadata": {},
   "outputs": [
    {
     "data": {
      "text/html": [
       "<div>\n",
       "<style scoped>\n",
       "    .dataframe tbody tr th:only-of-type {\n",
       "        vertical-align: middle;\n",
       "    }\n",
       "\n",
       "    .dataframe tbody tr th {\n",
       "        vertical-align: top;\n",
       "    }\n",
       "\n",
       "    .dataframe thead th {\n",
       "        text-align: right;\n",
       "    }\n",
       "</style>\n",
       "<table border=\"1\" class=\"dataframe\">\n",
       "  <thead>\n",
       "    <tr style=\"text-align: right;\">\n",
       "      <th></th>\n",
       "      <th>story</th>\n",
       "      <th>summary</th>\n",
       "    </tr>\n",
       "  </thead>\n",
       "  <tbody>\n",
       "    <tr>\n",
       "      <th>0</th>\n",
       "      <td>Fort Hood , Texas The shooting at Fort Hood wa...</td>\n",
       "      <td>Pfc . Lance Aviles says he was ordered to eras...</td>\n",
       "    </tr>\n",
       "    <tr>\n",
       "      <th>1</th>\n",
       "      <td>WikiLeaks founder Julian Assange is trying to ...</td>\n",
       "      <td>Julian Assange is seeking to avoid extradition...</td>\n",
       "    </tr>\n",
       "    <tr>\n",
       "      <th>2</th>\n",
       "      <td>The news that Scotland has rejected independen...</td>\n",
       "      <td>Hammond : UK allies will breathe sigh of relie...</td>\n",
       "    </tr>\n",
       "    <tr>\n",
       "      <th>3</th>\n",
       "      <td>BP plans to continue using a controversial sub...</td>\n",
       "      <td>EPA says it `` will continue to work over the ...</td>\n",
       "    </tr>\n",
       "    <tr>\n",
       "      <th>4</th>\n",
       "      <td>Barcelona may be licking their wounds after a ...</td>\n",
       "      <td>Barcelona 's Eric Abidal is given the all clea...</td>\n",
       "    </tr>\n",
       "  </tbody>\n",
       "</table>\n",
       "</div>"
      ],
      "text/plain": [
       "                                               story  \\\n",
       "0  Fort Hood , Texas The shooting at Fort Hood wa...   \n",
       "1  WikiLeaks founder Julian Assange is trying to ...   \n",
       "2  The news that Scotland has rejected independen...   \n",
       "3  BP plans to continue using a controversial sub...   \n",
       "4  Barcelona may be licking their wounds after a ...   \n",
       "\n",
       "                                             summary  \n",
       "0  Pfc . Lance Aviles says he was ordered to eras...  \n",
       "1  Julian Assange is seeking to avoid extradition...  \n",
       "2  Hammond : UK allies will breathe sigh of relie...  \n",
       "3  EPA says it `` will continue to work over the ...  \n",
       "4  Barcelona 's Eric Abidal is given the all clea...  "
      ]
     },
     "execution_count": 28,
     "metadata": {},
     "output_type": "execute_result"
    }
   ],
   "source": [
    "df.head()"
   ]
  },
  {
   "cell_type": "code",
   "execution_count": 29,
   "metadata": {},
   "outputs": [
    {
     "data": {
      "text/html": [
       "<div>\n",
       "<style scoped>\n",
       "    .dataframe tbody tr th:only-of-type {\n",
       "        vertical-align: middle;\n",
       "    }\n",
       "\n",
       "    .dataframe tbody tr th {\n",
       "        vertical-align: top;\n",
       "    }\n",
       "\n",
       "    .dataframe thead th {\n",
       "        text-align: right;\n",
       "    }\n",
       "</style>\n",
       "<table border=\"1\" class=\"dataframe\">\n",
       "  <thead>\n",
       "    <tr style=\"text-align: right;\">\n",
       "      <th></th>\n",
       "      <th>story</th>\n",
       "      <th>summary</th>\n",
       "    </tr>\n",
       "  </thead>\n",
       "  <tbody>\n",
       "    <tr>\n",
       "      <th>count</th>\n",
       "      <td>92459</td>\n",
       "      <td>92459</td>\n",
       "    </tr>\n",
       "    <tr>\n",
       "      <th>unique</th>\n",
       "      <td>89076</td>\n",
       "      <td>88272</td>\n",
       "    </tr>\n",
       "    <tr>\n",
       "      <th>top</th>\n",
       "      <td>Editor 's note : A nationally syndicated colum...</td>\n",
       "      <td>This page includes the show Transcript</td>\n",
       "    </tr>\n",
       "    <tr>\n",
       "      <th>freq</th>\n",
       "      <td>14</td>\n",
       "      <td>148</td>\n",
       "    </tr>\n",
       "  </tbody>\n",
       "</table>\n",
       "</div>"
      ],
      "text/plain": [
       "                                                    story  \\\n",
       "count                                               92459   \n",
       "unique                                              89076   \n",
       "top     Editor 's note : A nationally syndicated colum...   \n",
       "freq                                                   14   \n",
       "\n",
       "                                       summary  \n",
       "count                                    92459  \n",
       "unique                                   88272  \n",
       "top     This page includes the show Transcript  \n",
       "freq                                       148  "
      ]
     },
     "execution_count": 29,
     "metadata": {},
     "output_type": "execute_result"
    }
   ],
   "source": [
    "df.describe()"
   ]
  },
  {
   "cell_type": "code",
   "execution_count": 30,
   "metadata": {},
   "outputs": [],
   "source": [
    "df.drop_duplicates(inplace=True)"
   ]
  },
  {
   "cell_type": "code",
   "execution_count": 31,
   "metadata": {},
   "outputs": [],
   "source": [
    "df.dropna(inplace=True)"
   ]
  },
  {
   "cell_type": "code",
   "execution_count": 32,
   "metadata": {},
   "outputs": [
    {
     "data": {
      "text/html": [
       "<div>\n",
       "<style scoped>\n",
       "    .dataframe tbody tr th:only-of-type {\n",
       "        vertical-align: middle;\n",
       "    }\n",
       "\n",
       "    .dataframe tbody tr th {\n",
       "        vertical-align: top;\n",
       "    }\n",
       "\n",
       "    .dataframe thead th {\n",
       "        text-align: right;\n",
       "    }\n",
       "</style>\n",
       "<table border=\"1\" class=\"dataframe\">\n",
       "  <thead>\n",
       "    <tr style=\"text-align: right;\">\n",
       "      <th></th>\n",
       "      <th>story</th>\n",
       "      <th>summary</th>\n",
       "    </tr>\n",
       "  </thead>\n",
       "  <tbody>\n",
       "    <tr>\n",
       "      <th>count</th>\n",
       "      <td>89248</td>\n",
       "      <td>89248</td>\n",
       "    </tr>\n",
       "    <tr>\n",
       "      <th>unique</th>\n",
       "      <td>89076</td>\n",
       "      <td>88272</td>\n",
       "    </tr>\n",
       "    <tr>\n",
       "      <th>top</th>\n",
       "      <td>Editor 's note : The staff at CNN.com has rece...</td>\n",
       "      <td>This page includes the show Transcript</td>\n",
       "    </tr>\n",
       "    <tr>\n",
       "      <th>freq</th>\n",
       "      <td>14</td>\n",
       "      <td>148</td>\n",
       "    </tr>\n",
       "  </tbody>\n",
       "</table>\n",
       "</div>"
      ],
      "text/plain": [
       "                                                    story  \\\n",
       "count                                               89248   \n",
       "unique                                              89076   \n",
       "top     Editor 's note : The staff at CNN.com has rece...   \n",
       "freq                                                   14   \n",
       "\n",
       "                                       summary  \n",
       "count                                    89248  \n",
       "unique                                   88272  \n",
       "top     This page includes the show Transcript  \n",
       "freq                                       148  "
      ]
     },
     "execution_count": 32,
     "metadata": {},
     "output_type": "execute_result"
    }
   ],
   "source": [
    "df.describe()"
   ]
  },
  {
   "cell_type": "code",
   "execution_count": 35,
   "metadata": {},
   "outputs": [
    {
     "data": {
      "text/plain": [
       "'Fort Hood , Texas The shooting at Fort Hood was captured on video by a soldier using his cell phone camera as he hid from the shooter , but he was ordered to erase it , the soldier said Friday . Pfc .'"
      ]
     },
     "execution_count": 35,
     "metadata": {},
     "output_type": "execute_result"
    }
   ],
   "source": [
    "df.iloc(0)[0][0]"
   ]
  },
  {
   "cell_type": "code",
   "execution_count": 36,
   "metadata": {},
   "outputs": [],
   "source": [
    "df = df.reset_index()"
   ]
  },
  {
   "cell_type": "markdown",
   "metadata": {},
   "source": [
    "We save the stories to feather format so it is quick and easy to load later on."
   ]
  },
  {
   "cell_type": "code",
   "execution_count": 37,
   "metadata": {},
   "outputs": [],
   "source": [
    "df.to_feather(f'{PATH}/stories.feather')"
   ]
  },
  {
   "cell_type": "code",
   "execution_count": 38,
   "metadata": {},
   "outputs": [],
   "source": [
    "df = pd.read_feather(f'{PATH}/stories.feather')"
   ]
  },
  {
   "cell_type": "markdown",
   "metadata": {},
   "source": [
    "# Splitting the Dataset"
   ]
  },
  {
   "cell_type": "code",
   "execution_count": 39,
   "metadata": {},
   "outputs": [],
   "source": [
    "from sklearn.model_selection import train_test_split"
   ]
  },
  {
   "cell_type": "code",
   "execution_count": 40,
   "metadata": {},
   "outputs": [],
   "source": [
    "train, test = train_test_split(df, test_size=0.2)\n",
    "test, valid = train_test_split(test, test_size=0.2)"
   ]
  },
  {
   "cell_type": "code",
   "execution_count": 41,
   "metadata": {},
   "outputs": [],
   "source": [
    "train = train.reset_index()\n",
    "train.to_feather(f'{PATH}/train.feather')"
   ]
  },
  {
   "cell_type": "code",
   "execution_count": 42,
   "metadata": {},
   "outputs": [],
   "source": [
    "test = test.reset_index()\n",
    "test.to_feather(f'{PATH}/test.feather')"
   ]
  },
  {
   "cell_type": "code",
   "execution_count": 43,
   "metadata": {},
   "outputs": [],
   "source": [
    "valid = valid.reset_index()\n",
    "valid.to_feather(f'{PATH}/valid.feather')"
   ]
  },
  {
   "cell_type": "code",
   "execution_count": 44,
   "metadata": {},
   "outputs": [],
   "source": [
    "train.to_csv(f'{PATH}/train.tsv', sep=\"\\t\", columns=[\"story\", \"summary\"], index=False, header=False)\n",
    "test.to_csv(f'{PATH}/test.tsv', sep=\"\\t\", columns=[\"story\", \"summary\"], index=False, header=False)\n",
    "valid.to_csv(f'{PATH}/valid.tsv', sep=\"\\t\", columns=[\"story\", \"summary\"], index=False, header=False)"
   ]
  },
  {
   "cell_type": "code",
   "execution_count": 45,
   "metadata": {},
   "outputs": [
    {
     "data": {
      "text/plain": [
       "(71398, 14280, 3570)"
      ]
     },
     "execution_count": 45,
     "metadata": {},
     "output_type": "execute_result"
    }
   ],
   "source": [
    "len(train), len(test), len(valid)"
   ]
  },
  {
   "cell_type": "markdown",
   "metadata": {},
   "source": [
    "We produce a small dataset for quicker iteration."
   ]
  },
  {
   "cell_type": "code",
   "execution_count": 46,
   "metadata": {},
   "outputs": [],
   "source": [
    "SMALL_TRAIN_SIZE = 3000\n",
    "SMALL_TEST_SIZE= 1000\n",
    "SMALL_VALID_SIZE= 1000"
   ]
  },
  {
   "cell_type": "code",
   "execution_count": 47,
   "metadata": {},
   "outputs": [],
   "source": [
    "train[:SMALL_TRAIN_SIZE].to_csv(f'{PATH}/train_small.tsv', sep=\"\\t\", columns=[\"story\", \"summary\"], index=False, header=False)\n",
    "test[:SMALL_TEST_SIZE].to_csv(f'{PATH}/test_small.tsv', sep=\"\\t\", columns=[\"story\", \"summary\"], index=False, header=False)\n",
    "valid[:SMALL_VALID_SIZE].to_csv(f'{PATH}/valid_small.tsv', sep=\"\\t\", columns=[\"story\", \"summary\"], index=False, header=False)"
   ]
  },
  {
   "cell_type": "code",
   "execution_count": null,
   "metadata": {},
   "outputs": [],
   "source": []
  }
 ],
 "metadata": {
  "kernelspec": {
   "display_name": "Python 3",
   "language": "python",
   "name": "python3"
  },
  "language_info": {
   "codemirror_mode": {
    "name": "ipython",
    "version": 3
   },
   "file_extension": ".py",
   "mimetype": "text/x-python",
   "name": "python",
   "nbconvert_exporter": "python",
   "pygments_lexer": "ipython3",
   "version": "3.6.4"
  }
 },
 "nbformat": 4,
 "nbformat_minor": 2
}
