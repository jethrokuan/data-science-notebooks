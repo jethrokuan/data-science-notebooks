{
 "cells": [
  {
   "cell_type": "markdown",
   "metadata": {},
   "source": [
    "# Advanced Feature Engineering"
   ]
  },
  {
   "cell_type": "markdown",
   "metadata": {},
   "source": [
    "This worksheet goes through advanced feature engineering, specifically for text."
   ]
  },
  {
   "cell_type": "markdown",
   "metadata": {},
   "source": [
    "## Latent Semantic Analysis (LSA)"
   ]
  },
  {
   "cell_type": "code",
   "execution_count": 3,
   "metadata": {},
   "outputs": [],
   "source": [
    "from sklearn.feature_extraction.text import TfidfVectorizer\n",
    "from sklearn.decomposition import TruncatedSVD\n",
    "\n",
    "def latent_semantic_analysis(docs):\n",
    "    tfidf = TfidfVectorizer() # using default params\n",
    "    tfidf.fit(docs) # Creating dictionary\n",
    "    vecs = tfidf.transform(docs) # Using dictionary to vectorize documents\n",
    "    svd = TruncatedSVD(n_components=100) # Generating top 100 components\n",
    "    svd.fit(vecs) # create SVD matrices\n",
    "    return svd.transform(vecs) # Use LSA to vectorize documents"
   ]
  },
  {
   "cell_type": "code",
   "execution_count": 4,
   "metadata": {},
   "outputs": [
    {
     "data": {
      "text/plain": [
       "array([[ 0.24972705, -0.06943193, -0.01310763, ..., -0.05284011,\n",
       "         0.01323889,  0.00471858],\n",
       "       [ 0.1399918 , -0.07671546, -0.0397579 , ...,  0.01248961,\n",
       "        -0.03032798,  0.01511617],\n",
       "       [ 0.37184255, -0.04142754, -0.06709132, ...,  0.03632207,\n",
       "         0.00969969,  0.0215647 ],\n",
       "       ..., \n",
       "       [ 0.18476811, -0.00611375, -0.08039057, ...,  0.01452309,\n",
       "         0.00263139, -0.00114293],\n",
       "       [ 0.18795807, -0.06606888,  0.04158112, ...,  0.02202557,\n",
       "         0.00278947,  0.04899025],\n",
       "       [ 0.08231697, -0.09080567,  0.00372905, ...,  0.00476824,\n",
       "         0.02563993,  0.00800737]])"
      ]
     },
     "execution_count": 4,
     "metadata": {},
     "output_type": "execute_result"
    }
   ],
   "source": [
    "from sklearn.datasets import fetch_20newsgroups\n",
    "newsgroups_train =fetch_20newsgroups(subset='train')\n",
    "latent_semantic_analysis(newsgroups_train.data)"
   ]
  },
  {
   "cell_type": "markdown",
   "metadata": {},
   "source": [
    "# Latent Dirichlet Analysis (LDA)"
   ]
  },
  {
   "cell_type": "code",
   "execution_count": null,
   "metadata": {},
   "outputs": [],
   "source": []
  }
 ],
 "metadata": {
  "kernelspec": {
   "display_name": "Python 3",
   "language": "python",
   "name": "python3"
  },
  "language_info": {
   "codemirror_mode": {
    "name": "ipython",
    "version": 3
   },
   "file_extension": ".py",
   "mimetype": "text/x-python",
   "name": "python",
   "nbconvert_exporter": "python",
   "pygments_lexer": "ipython3",
   "version": "3.6.4"
  }
 },
 "nbformat": 4,
 "nbformat_minor": 2
}
