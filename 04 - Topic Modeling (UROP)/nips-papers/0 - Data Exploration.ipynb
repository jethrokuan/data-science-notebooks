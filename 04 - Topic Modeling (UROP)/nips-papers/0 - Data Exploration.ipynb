{
 "cells": [
  {
   "cell_type": "markdown",
   "metadata": {},
   "source": [
    "# Initial Setup "
   ]
  },
  {
   "cell_type": "code",
   "execution_count": 60,
   "metadata": {},
   "outputs": [],
   "source": [
    "import sys\n",
    "sys.path.insert(0, \"../..\")"
   ]
  },
  {
   "cell_type": "code",
   "execution_count": 61,
   "metadata": {},
   "outputs": [
    {
     "name": "stdout",
     "output_type": "stream",
     "text": [
      "The autoreload extension is already loaded. To reload it, use:\n",
      "  %reload_ext autoreload\n"
     ]
    }
   ],
   "source": [
    "%load_ext autoreload\n",
    "%autoreload 2\n",
    "%matplotlib inline"
   ]
  },
  {
   "cell_type": "code",
   "execution_count": 62,
   "metadata": {},
   "outputs": [],
   "source": [
    "import logging\n",
    "logging.basicConfig(format='%(asctime)s : %(levelname)s : %(message)s', level=logging.INFO)"
   ]
  },
  {
   "cell_type": "code",
   "execution_count": 63,
   "metadata": {},
   "outputs": [],
   "source": [
    "PATH=\"/diskA/jethro/nips-papers\""
   ]
  },
  {
   "cell_type": "markdown",
   "metadata": {},
   "source": [
    "# Data Exploration"
   ]
  },
  {
   "cell_type": "code",
   "execution_count": 64,
   "metadata": {},
   "outputs": [
    {
     "data": {
      "text/plain": [
       "['/diskA/jethro/nips-papers/database.sqlite',\n",
       " '/diskA/jethro/nips-papers/dictionary.pkl',\n",
       " '/diskA/jethro/nips-papers/corpus.mm',\n",
       " '/diskA/jethro/nips-papers/corpus.mm.index']"
      ]
     },
     "execution_count": 64,
     "metadata": {},
     "output_type": "execute_result"
    }
   ],
   "source": [
    "import glob\n",
    "files = glob.glob(f'{PATH}/*.*')\n",
    "files[:5]"
   ]
  },
  {
   "cell_type": "code",
   "execution_count": 65,
   "metadata": {},
   "outputs": [],
   "source": [
    "import sqlite3\n",
    "conn = sqlite3.connect(f'{PATH}/database.sqlite')"
   ]
  },
  {
   "cell_type": "code",
   "execution_count": 66,
   "metadata": {},
   "outputs": [],
   "source": [
    "import pandas as pd"
   ]
  },
  {
   "cell_type": "code",
   "execution_count": 67,
   "metadata": {},
   "outputs": [],
   "source": [
    "papers = pd.read_sql_query(\"select * from papers;\", conn)"
   ]
  },
  {
   "cell_type": "code",
   "execution_count": 68,
   "metadata": {},
   "outputs": [
    {
     "data": {
      "text/html": [
       "<div>\n",
       "<style scoped>\n",
       "    .dataframe tbody tr th:only-of-type {\n",
       "        vertical-align: middle;\n",
       "    }\n",
       "\n",
       "    .dataframe tbody tr th {\n",
       "        vertical-align: top;\n",
       "    }\n",
       "\n",
       "    .dataframe thead th {\n",
       "        text-align: right;\n",
       "    }\n",
       "</style>\n",
       "<table border=\"1\" class=\"dataframe\">\n",
       "  <thead>\n",
       "    <tr style=\"text-align: right;\">\n",
       "      <th></th>\n",
       "      <th>id</th>\n",
       "      <th>year</th>\n",
       "      <th>title</th>\n",
       "      <th>event_type</th>\n",
       "      <th>pdf_name</th>\n",
       "      <th>abstract</th>\n",
       "      <th>paper_text</th>\n",
       "    </tr>\n",
       "  </thead>\n",
       "  <tbody>\n",
       "    <tr>\n",
       "      <th>6063</th>\n",
       "      <td>6106</td>\n",
       "      <td>2016</td>\n",
       "      <td>Learning Additive Exponential Family Graphical...</td>\n",
       "      <td>Poster</td>\n",
       "      <td>6106-learning-additive-exponential-family-grap...</td>\n",
       "      <td>We investigate a subclass of exponential famil...</td>\n",
       "      <td>Learning Additive Exponential Family Graphical...</td>\n",
       "    </tr>\n",
       "    <tr>\n",
       "      <th>6848</th>\n",
       "      <td>6892</td>\n",
       "      <td>2017</td>\n",
       "      <td>Continual Learning with Deep Generative Replay</td>\n",
       "      <td>Poster</td>\n",
       "      <td>6892-continual-learning-with-deep-generative-r...</td>\n",
       "      <td>Attempts to train a comprehensive artificial i...</td>\n",
       "      <td>Continual Learning with Deep Generative Replay...</td>\n",
       "    </tr>\n",
       "    <tr>\n",
       "      <th>2386</th>\n",
       "      <td>2425</td>\n",
       "      <td>2003</td>\n",
       "      <td>Bounded Invariance and the Formation of Place ...</td>\n",
       "      <td></td>\n",
       "      <td>2425-bounded-invariance-and-the-formation-of-p...</td>\n",
       "      <td>Abstract Missing</td>\n",
       "      <td>Bounded invariance and the formation of\\nplace...</td>\n",
       "    </tr>\n",
       "    <tr>\n",
       "      <th>2372</th>\n",
       "      <td>2411</td>\n",
       "      <td>2003</td>\n",
       "      <td>On the Concentration of Expectation and Approx...</td>\n",
       "      <td></td>\n",
       "      <td>2411-on-the-concentration-of-expectation-and-a...</td>\n",
       "      <td>Abstract Missing</td>\n",
       "      <td>On the concentration of expectation and\\nappro...</td>\n",
       "    </tr>\n",
       "    <tr>\n",
       "      <th>3279</th>\n",
       "      <td>3318</td>\n",
       "      <td>2007</td>\n",
       "      <td>Reinforcement Learning in Continuous Action Sp...</td>\n",
       "      <td></td>\n",
       "      <td>3318-reinforcement-learning-in-continuous-acti...</td>\n",
       "      <td>Abstract Missing</td>\n",
       "      <td>Reinforcement Learning in Continuous Action Sp...</td>\n",
       "    </tr>\n",
       "  </tbody>\n",
       "</table>\n",
       "</div>"
      ],
      "text/plain": [
       "        id  year                                              title  \\\n",
       "6063  6106  2016  Learning Additive Exponential Family Graphical...   \n",
       "6848  6892  2017     Continual Learning with Deep Generative Replay   \n",
       "2386  2425  2003  Bounded Invariance and the Formation of Place ...   \n",
       "2372  2411  2003  On the Concentration of Expectation and Approx...   \n",
       "3279  3318  2007  Reinforcement Learning in Continuous Action Sp...   \n",
       "\n",
       "     event_type                                           pdf_name  \\\n",
       "6063     Poster  6106-learning-additive-exponential-family-grap...   \n",
       "6848     Poster  6892-continual-learning-with-deep-generative-r...   \n",
       "2386             2425-bounded-invariance-and-the-formation-of-p...   \n",
       "2372             2411-on-the-concentration-of-expectation-and-a...   \n",
       "3279             3318-reinforcement-learning-in-continuous-acti...   \n",
       "\n",
       "                                               abstract  \\\n",
       "6063  We investigate a subclass of exponential famil...   \n",
       "6848  Attempts to train a comprehensive artificial i...   \n",
       "2386                                   Abstract Missing   \n",
       "2372                                   Abstract Missing   \n",
       "3279                                   Abstract Missing   \n",
       "\n",
       "                                             paper_text  \n",
       "6063  Learning Additive Exponential Family Graphical...  \n",
       "6848  Continual Learning with Deep Generative Replay...  \n",
       "2386  Bounded invariance and the formation of\\nplace...  \n",
       "2372  On the concentration of expectation and\\nappro...  \n",
       "3279  Reinforcement Learning in Continuous Action Sp...  "
      ]
     },
     "execution_count": 68,
     "metadata": {},
     "output_type": "execute_result"
    }
   ],
   "source": [
    "papers.sample(5)"
   ]
  },
  {
   "cell_type": "code",
   "execution_count": 69,
   "metadata": {},
   "outputs": [
    {
     "data": {
      "text/plain": [
       "<matplotlib.axes._subplots.AxesSubplot at 0x7fbfa11ab240>"
      ]
     },
     "execution_count": 69,
     "metadata": {},
     "output_type": "execute_result"
    },
    {
     "data": {
      "image/png": "[encoded data removed]",
      "text/plain": [
       "<Figure size 432x288 with 1 Axes>"
      ]
     },
     "metadata": {},
     "output_type": "display_data"
    }
   ],
   "source": [
    "paper_count_years = papers.groupby(\"year\")[\"id\"].nunique()\n",
    "paper_count_years.plot()"
   ]
  },
  {
   "cell_type": "code",
   "execution_count": 70,
   "metadata": {},
   "outputs": [],
   "source": [
    "from urop.nlp import clean_text\n",
    "papers[\"clean_text\"] = papers[\"paper_text\"].apply(clean_text)"
   ]
  },
  {
   "cell_type": "code",
   "execution_count": 71,
   "metadata": {},
   "outputs": [],
   "source": [
    "corpus = papers[\"clean_text\"].tolist()"
   ]
  },
  {
   "cell_type": "markdown",
   "metadata": {},
   "source": [
    "# Building the Dictionary and Corpus"
   ]
  },
  {
   "cell_type": "code",
   "execution_count": 73,
   "metadata": {},
   "outputs": [],
   "source": [
    "from gensim.corpora import Dictionary\n",
    "from gensim.corpora.mmcorpus import MmCorpus"
   ]
  },
  {
   "cell_type": "code",
   "execution_count": 74,
   "metadata": {},
   "outputs": [
    {
     "name": "stderr",
     "output_type": "stream",
     "text": [
      "2018-03-10 15:19:17,149 : INFO : adding document #0 to Dictionary(0 unique tokens: [])\n",
      "2018-03-10 15:19:21,692 : INFO : built Dictionary(700039 unique tokens: ['achieve', 'addressing', 'advance', 'algorithm', 'algorithmletter']...) from 7241 documents (total 8365103 corpus positions)\n"
     ]
    }
   ],
   "source": [
    "dct = Dictionary(corpus)"
   ]
  },
  {
   "cell_type": "code",
   "execution_count": 75,
   "metadata": {},
   "outputs": [
    {
     "name": "stderr",
     "output_type": "stream",
     "text": [
      "2018-03-10 15:19:22,297 : INFO : discarding 645785 tokens: [('algorithm', 5998), ('algorithmletter', 1), ('almighty', 1), ('analogicallyinformation', 1), ('analysis', 5483), ('anddx', 4), ('andinquires', 1), ('andix', 3), ('andposition', 4), ('andtrace', 3)]...\n",
      "2018-03-10 15:19:22,298 : INFO : keeping 54254 tokens which were in no less than 5 and no more than 3620 (=50.0%) documents\n",
      "2018-03-10 15:19:22,445 : INFO : resulting dictionary: Dictionary(54254 unique tokens: ['achieve', 'addressing', 'advance', 'angle', 'anoperator']...)\n"
     ]
    }
   ],
   "source": [
    "dct.filter_extremes(no_below=5, no_above=0.5)"
   ]
  },
  {
   "cell_type": "code",
   "execution_count": 76,
   "metadata": {},
   "outputs": [],
   "source": [
    "mm_corpus = [dct.doc2bow(text) for text in corpus]"
   ]
  },
  {
   "cell_type": "code",
   "execution_count": 77,
   "metadata": {},
   "outputs": [
    {
     "name": "stderr",
     "output_type": "stream",
     "text": [
      "2018-03-10 15:19:25,223 : INFO : storing corpus in Matrix Market format to /diskA/jethro/nips-papers/corpus.mm\n",
      "2018-03-10 15:19:25,228 : INFO : saving sparse matrix to /diskA/jethro/nips-papers/corpus.mm\n",
      "2018-03-10 15:19:25,228 : INFO : PROGRESS: saving document #0\n",
      "2018-03-10 15:19:25,423 : INFO : PROGRESS: saving document #1000\n",
      "2018-03-10 15:19:25,633 : INFO : PROGRESS: saving document #2000\n",
      "2018-03-10 15:19:25,884 : INFO : PROGRESS: saving document #3000\n",
      "2018-03-10 15:19:26,180 : INFO : PROGRESS: saving document #4000\n",
      "2018-03-10 15:19:26,502 : INFO : PROGRESS: saving document #5000\n",
      "2018-03-10 15:19:26,828 : INFO : PROGRESS: saving document #6000\n",
      "2018-03-10 15:19:27,177 : INFO : PROGRESS: saving document #7000\n",
      "2018-03-10 15:19:27,268 : INFO : saved 7241x54254 matrix, density=0.598% (2350382/392853214)\n",
      "2018-03-10 15:19:27,269 : INFO : saving MmCorpus index to /diskA/jethro/nips-papers/corpus.mm.index\n"
     ]
    }
   ],
   "source": [
    "MmCorpus.serialize(f'{PATH}/corpus.mm', mm_corpus)"
   ]
  },
  {
   "cell_type": "code",
   "execution_count": 78,
   "metadata": {},
   "outputs": [
    {
     "name": "stderr",
     "output_type": "stream",
     "text": [
      "2018-03-10 15:19:27,288 : INFO : saving Dictionary object under /diskA/jethro/nips-papers/dictionary.pkl, separately None\n",
      "2018-03-10 15:19:27,303 : INFO : saved /diskA/jethro/nips-papers/dictionary.pkl\n"
     ]
    }
   ],
   "source": [
    "dct.save(f'{PATH}/dictionary.pkl')"
   ]
  },
  {
   "cell_type": "code",
   "execution_count": 79,
   "metadata": {},
   "outputs": [],
   "source": [
    "time_seq = paper_count_years.tolist()"
   ]
  },
  {
   "cell_type": "code",
   "execution_count": 80,
   "metadata": {},
   "outputs": [],
   "source": [
    "import pickle"
   ]
  },
  {
   "cell_type": "code",
   "execution_count": 82,
   "metadata": {},
   "outputs": [],
   "source": [
    "with open(f'{PATH}/timeseq.lst', 'wb') as f:\n",
    "    pickle.dump(time_seq, f)"
   ]
  },
  {
   "cell_type": "code",
   "execution_count": null,
   "metadata": {},
   "outputs": [],
   "source": []
  },
  {
   "cell_type": "code",
   "execution_count": null,
   "metadata": {},
   "outputs": [],
   "source": []
  }
 ],
 "metadata": {
  "kernelspec": {
   "display_name": "Python 3",
   "language": "python",
   "name": "python3"
  },
  "language_info": {
   "codemirror_mode": {
    "name": "ipython",
    "version": 3
   },
   "file_extension": ".py",
   "mimetype": "text/x-python",
   "name": "python",
   "nbconvert_exporter": "python",
   "pygments_lexer": "ipython3",
   "version": "3.6.4"
  }
 },
 "nbformat": 4,
 "nbformat_minor": 2
}
