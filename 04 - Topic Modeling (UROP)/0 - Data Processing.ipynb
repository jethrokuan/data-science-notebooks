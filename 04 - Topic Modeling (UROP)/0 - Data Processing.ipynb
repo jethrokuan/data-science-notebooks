{
 "cells": [
  {
   "cell_type": "code",
   "execution_count": 1,
   "metadata": {},
   "outputs": [],
   "source": [
    "import sys\n",
    "sys.path.insert(0, \"..\")"
   ]
  },
  {
   "cell_type": "code",
   "execution_count": 2,
   "metadata": {},
   "outputs": [],
   "source": [
    "%load_ext autoreload\n",
    "%autoreload 2\n",
    "%matplotlib inline"
   ]
  },
  {
   "cell_type": "code",
   "execution_count": 3,
   "metadata": {},
   "outputs": [],
   "source": [
    "import logging\n",
    "logging.basicConfig(format='%(asctime)s : %(levelname)s : %(message)s', level=logging.INFO)"
   ]
  },
  {
   "cell_type": "code",
   "execution_count": 4,
   "metadata": {},
   "outputs": [
    {
     "name": "stdout",
     "output_type": "stream",
     "text": [
      "[nltk_data] Downloading package stopwords to /home/jovyan/nltk_data...\n",
      "[nltk_data]   Unzipping corpora/stopwords.zip.\n",
      "[nltk_data] Downloading package wordnet to /home/jovyan/nltk_data...\n",
      "[nltk_data]   Unzipping corpora/wordnet.zip.\n",
      "[nltk_data] Downloading package punkt to /home/jovyan/nltk_data...\n",
      "[nltk_data]   Unzipping tokenizers/punkt.zip.\n",
      "[nltk_data] Downloading package averaged_perceptron_tagger to\n",
      "[nltk_data]     /home/jovyan/nltk_data...\n",
      "[nltk_data]   Unzipping taggers/averaged_perceptron_tagger.zip.\n"
     ]
    },
    {
     "data": {
      "text/plain": [
       "True"
      ]
     },
     "execution_count": 4,
     "metadata": {},
     "output_type": "execute_result"
    }
   ],
   "source": [
    "import nltk\n",
    "nltk.download('stopwords')\n",
    "nltk.download('wordnet')\n",
    "nltk.download('punkt')\n",
    "nltk.download('averaged_perceptron_tagger')"
   ]
  },
  {
   "cell_type": "markdown",
   "metadata": {},
   "source": [
    "# Data Processing\n",
    "In this notebook, we will be processing the data in the ACM Dataset.\n",
    "\n",
    "The first step is to understand the information we want to extract from our dataset."
   ]
  },
  {
   "cell_type": "code",
   "execution_count": 5,
   "metadata": {},
   "outputs": [],
   "source": [
    "PATH=\"../data/ACM Data/\""
   ]
  },
  {
   "cell_type": "code",
   "execution_count": 6,
   "metadata": {},
   "outputs": [
    {
     "data": {
      "text/plain": [
       "['../data/ACM Data/PROC-SWIM12-2012-2237867.xml',\n",
       " '../data/ACM Data/PROC-VALUETOOLS09-2009-1698822.xml',\n",
       " '../data/ACM Data/PROC-MODELS06-2006-1762828.xml',\n",
       " '../data/ACM Data/PROC-HRI12-2012-2157689.xml',\n",
       " '../data/ACM Data/PROC-SIGGRAPHASIA09-2009-1666778.xml']"
      ]
     },
     "execution_count": 6,
     "metadata": {},
     "output_type": "execute_result"
    }
   ],
   "source": [
    "import glob\n",
    "files = glob.glob(f'{PATH}/*.xml')\n",
    "files[:5]"
   ]
  },
  {
   "cell_type": "code",
   "execution_count": null,
   "metadata": {},
   "outputs": [
    {
     "name": "stderr",
     "output_type": "stream",
     "text": [
      "2018-03-08 09:06:59,458 : INFO : 'pattern' package not found; tag filters are not available for English\n",
      "2018-03-08 09:06:59,463 : INFO : Parsing ../data/ACM Data/PROC-SWIM12-2012-2237867.xml\n",
      "2018-03-08 09:07:01,951 : INFO : adding document #0 to Dictionary(0 unique tokens: [])\n",
      "2018-03-08 09:07:04,882 : INFO : Parsing ../data/ACM Data/PROC-VALUETOOLS09-2009-1698822.xml\n",
      "2018-03-08 09:07:27,765 : INFO : Parsing ../data/ACM Data/PROC-MODELS06-2006-1762828.xml\n",
      "2018-03-08 09:07:27,783 : INFO : Parsing ../data/ACM Data/PROC-HRI12-2012-2157689.xml\n",
      "2018-03-08 09:07:51,070 : INFO : Parsing ../data/ACM Data/PROC-SIGGRAPHASIA09-2009-1666778.xml\n",
      "2018-03-08 09:07:53,436 : INFO : Parsing ../data/ACM Data/PROC-INFOSECCD09-2009-1940976.xml\n",
      "2018-03-08 09:07:59,727 : INFO : Parsing ../data/ACM Data/PROC-SE4SG2014-2014-2593845.xml\n",
      "2018-03-08 09:07:59,731 : INFO : Parsing ../data/ACM Data/PROC-DOCENG08-2008-1410140.xml\n",
      "2018-03-08 09:08:12,544 : INFO : Parsing ../data/ACM Data/PROC-COP11-2011-2068736.xml\n",
      "2018-03-08 09:08:14,450 : INFO : Parsing ../data/ACM Data/PROC-UBIMOB09-2009-1739268.xml\n",
      "2018-03-08 09:08:19,151 : INFO : Parsing ../data/ACM Data/PROC-STOC84-1984-800057.xml\n"
     ]
    }
   ],
   "source": [
    "from urop.xml import ACMCorpus\n",
    "from gensim import corpora\n",
    "\n",
    "texts = ACMCorpus(files)\n",
    "dct = corpora.Dictionary(texts)"
   ]
  },
  {
   "cell_type": "code",
   "execution_count": 11,
   "metadata": {},
   "outputs": [
    {
     "name": "stderr",
     "output_type": "stream",
     "text": [
      "2018-03-08 04:40:28,244 : INFO : Parsing ../data/ACM Data/test/PROC--1969-800165.xml\n",
      "2018-03-08 04:40:31,970 : INFO : Parsing ../data/ACM Data/test/PROC--1967-2402536.xml\n",
      "2018-03-08 04:40:35,098 : INFO : Parsing ../data/ACM Data/test/PROC--1970-800028.xml\n"
     ]
    }
   ],
   "source": [
    "corpus = [dct.doc2bow(text) for text in texts]"
   ]
  },
  {
   "cell_type": "code",
   "execution_count": null,
   "metadata": {},
   "outputs": [],
   "source": []
  }
 ],
 "metadata": {
  "kernelspec": {
   "display_name": "Python 3",
   "language": "python",
   "name": "python3"
  },
  "language_info": {
   "codemirror_mode": {
    "name": "ipython",
    "version": 3
   },
   "file_extension": ".py",
   "mimetype": "text/x-python",
   "name": "python",
   "nbconvert_exporter": "python",
   "pygments_lexer": "ipython3",
   "version": "3.6.3"
  }
 },
 "nbformat": 4,
 "nbformat_minor": 2
}
