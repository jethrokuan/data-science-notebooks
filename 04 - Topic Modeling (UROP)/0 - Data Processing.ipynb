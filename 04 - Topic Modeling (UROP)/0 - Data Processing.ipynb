{
 "cells": [
  {
   "cell_type": "markdown",
   "metadata": {},
   "source": [
    "# Initial Setup"
   ]
  },
  {
   "cell_type": "code",
   "execution_count": 3,
   "metadata": {},
   "outputs": [],
   "source": [
    "import sys\n",
    "sys.path.insert(0, \"..\")"
   ]
  },
  {
   "cell_type": "code",
   "execution_count": 4,
   "metadata": {},
   "outputs": [
    {
     "name": "stdout",
     "output_type": "stream",
     "text": [
      "The autoreload extension is already loaded. To reload it, use:\n",
      "  %reload_ext autoreload\n"
     ]
    },
    {
     "name": "stderr",
     "output_type": "stream",
     "text": [
      "/home/jethro/anaconda3/envs/urop/lib/python3.6/site-packages/matplotlib/font_manager.py:278: UserWarning: Matplotlib is building the font cache using fc-list. This may take a moment.\n",
      "  'Matplotlib is building the font cache using fc-list. '\n"
     ]
    }
   ],
   "source": [
    "%load_ext autoreload\n",
    "%autoreload 2\n",
    "%matplotlib inline"
   ]
  },
  {
   "cell_type": "code",
   "execution_count": 5,
   "metadata": {},
   "outputs": [],
   "source": [
    "import logging\n",
    "logging.basicConfig(format='%(asctime)s : %(levelname)s : %(message)s', level=logging.INFO)"
   ]
  },
  {
   "cell_type": "code",
   "execution_count": 6,
   "metadata": {},
   "outputs": [
    {
     "name": "stdout",
     "output_type": "stream",
     "text": [
      "[nltk_data] Downloading package stopwords to /home/jethro/nltk_data...\n",
      "[nltk_data]   Package stopwords is already up-to-date!\n",
      "[nltk_data] Downloading package wordnet to /home/jethro/nltk_data...\n",
      "[nltk_data]   Package wordnet is already up-to-date!\n",
      "[nltk_data] Downloading package punkt to /home/jethro/nltk_data...\n",
      "[nltk_data]   Package punkt is already up-to-date!\n",
      "[nltk_data] Downloading package averaged_perceptron_tagger to\n",
      "[nltk_data]     /home/jethro/nltk_data...\n",
      "[nltk_data]   Package averaged_perceptron_tagger is already up-to-\n",
      "[nltk_data]       date!\n"
     ]
    },
    {
     "data": {
      "text/plain": [
       "True"
      ]
     },
     "execution_count": 6,
     "metadata": {},
     "output_type": "execute_result"
    }
   ],
   "source": [
    "import nltk\n",
    "nltk.download('stopwords')\n",
    "nltk.download('wordnet')\n",
    "nltk.download('punkt')\n",
    "nltk.download('averaged_perceptron_tagger')"
   ]
  },
  {
   "cell_type": "markdown",
   "metadata": {},
   "source": [
    "# Data Processing\n",
    "In this notebook, we will be processing the data in the ACM Dataset.\n",
    "\n",
    "The first step is to understand the information we want to extract from our dataset."
   ]
  },
  {
   "cell_type": "code",
   "execution_count": 7,
   "metadata": {},
   "outputs": [],
   "source": [
    "PATH=\"/diskA/jethro/acm/\""
   ]
  },
  {
   "cell_type": "code",
   "execution_count": 8,
   "metadata": {},
   "outputs": [
    {
     "data": {
      "text/plain": [
       "['/diskA/jethro/acm/PROC-PROMISE12-2012-2365324.xml',\n",
       " '/diskA/jethro/acm/PROC-SCOPES07-2007-1269843.xml',\n",
       " '/diskA/jethro/acm/PROC-WSC78-1978-800252.xml',\n",
       " '/diskA/jethro/acm/PROC-PMAM12-2012-2141702.xml',\n",
       " '/diskA/jethro/acm/PROC-SIGIR87-1987-42005.xml']"
      ]
     },
     "execution_count": 8,
     "metadata": {},
     "output_type": "execute_result"
    }
   ],
   "source": [
    "import glob\n",
    "files = glob.glob(f'{PATH}/*.xml')\n",
    "files[:5]"
   ]
  },
  {
   "cell_type": "code",
   "execution_count": 9,
   "metadata": {},
   "outputs": [
    {
     "name": "stderr",
     "output_type": "stream",
     "text": [
      "2018-03-09 12:07:29,140 : INFO : 'pattern' package not found; tag filters are not available for English\n"
     ]
    }
   ],
   "source": [
    "from urop.xml import ACMCorpus\n",
    "\n",
    "texts = ACMCorpus(files)"
   ]
  },
  {
   "cell_type": "code",
   "execution_count": 10,
   "metadata": {},
   "outputs": [
    {
     "name": "stderr",
     "output_type": "stream",
     "text": [
      "2018-03-09 12:07:55,616 : INFO : Parsing /diskA/jethro/acm/PROC-PROMISE12-2012-2365324.xml\n",
      "2018-03-09 12:07:55,678 : INFO : Parsing /diskA/jethro/acm/PROC-SCOPES07-2007-1269843.xml\n",
      "2018-03-09 12:07:59,092 : INFO : Parsing /diskA/jethro/acm/PROC-WSC78-1978-800252.xml\n",
      "2018-03-09 12:08:02,426 : INFO : Parsing /diskA/jethro/acm/PROC-PMAM12-2012-2141702.xml\n",
      "2018-03-09 12:08:06,543 : INFO : Parsing /diskA/jethro/acm/PROC-SIGIR87-1987-42005.xml\n",
      "2018-03-09 12:08:12,303 : INFO : Parsing /diskA/jethro/acm/PROC-AAMAS05-2005-1082473.xml\n",
      "2018-03-09 12:08:45,893 : INFO : Parsing /diskA/jethro/acm/PROC-FORTH89-1989-73312.xml\n",
      "2018-03-09 12:08:45,902 : INFO : Parsing /diskA/jethro/acm/PROC-SODA92-1992-139404.xml\n",
      "2018-03-09 12:08:55,079 : INFO : Parsing /diskA/jethro/acm/PROC-SCCG07-2007-2614348.xml\n",
      "2018-03-09 12:08:59,728 : INFO : Parsing /diskA/jethro/acm/PROC-ICSE01-2001-381473.xml\n",
      "2018-03-09 12:09:12,979 : INFO : Parsing /diskA/jethro/acm/PROC-STOC79-1979-800135.xml\n",
      "2018-03-09 12:09:18,968 : INFO : Parsing /diskA/jethro/acm/PROC-DMSN04-2004-1052199.xml\n",
      "2018-03-09 12:09:18,975 : INFO : Parsing /diskA/jethro/acm/PROC-MOBIWAC08-2008-1454659.xml\n",
      "2018-03-09 12:09:22,971 : INFO : Parsing /diskA/jethro/acm/PROC-VANET08-2008-1410043.xml\n",
      "2018-03-09 12:09:24,974 : INFO : Parsing /diskA/jethro/acm/PROC-MSR07-2007-1268983.xml\n",
      "2018-03-09 12:09:28,486 : INFO : Parsing /diskA/jethro/acm/PROC-WOT12-2012-2379756.xml\n",
      "2018-03-09 12:09:29,662 : INFO : Parsing /diskA/jethro/acm/PROC-COP10-2010-1930021.xml\n",
      "2018-03-09 12:09:30,403 : INFO : Parsing /diskA/jethro/acm/PROC--2014-2591635.xml\n",
      "2018-03-09 12:09:34,107 : INFO : Parsing /diskA/jethro/acm/PROC-SIGCSE97-1997-268084.xml\n",
      "2018-03-09 12:09:41,526 : INFO : Parsing /diskA/jethro/acm/PROC-SBCCI04-2004-1016568.xml\n",
      "2018-03-09 12:09:47,304 : INFO : Parsing /diskA/jethro/acm/PROC-RAMSE10-2010-1890683.xml\n",
      "2018-03-09 12:09:48,340 : INFO : Parsing /diskA/jethro/acm/PROC-COLT97-1997-267460.xml\n",
      "2018-03-09 12:09:53,157 : INFO : Parsing /diskA/jethro/acm/PROC-SIGCSE92-1992-134510.xml\n",
      "2018-03-09 12:09:59,046 : INFO : Parsing /diskA/jethro/acm/PROC-DATE02-2002-882452.xml\n",
      "2018-03-09 12:10:20,165 : INFO : Parsing /diskA/jethro/acm/PROC-PASTE05-2005-1108792.xml\n",
      "2018-03-09 12:10:23,084 : INFO : Parsing /diskA/jethro/acm/PROC-LSAP11-2011-1996029.xml\n",
      "2018-03-09 12:10:24,166 : INFO : Parsing /diskA/jethro/acm/PROC-ASSETS13-2013-2513383.xml\n",
      "2018-03-09 12:10:33,004 : INFO : Parsing /diskA/jethro/acm/PROC-KCAP01-2001-500737.xml\n",
      "2018-03-09 12:10:37,529 : INFO : Parsing /diskA/jethro/acm/PROC-SIGGRAPH81-1981-800224.xml\n",
      "2018-03-09 12:10:42,879 : INFO : Parsing /diskA/jethro/acm/PROC-BEWEB11-2011-1966883.xml\n",
      "2018-03-09 12:10:44,053 : INFO : Parsing /diskA/jethro/acm/PROC-LANC07-2007-1384117.xml\n",
      "2018-03-09 12:10:46,759 : INFO : Parsing /diskA/jethro/acm/PROC-RDURP11-2011-2030031.xml\n",
      "2018-03-09 12:10:47,632 : INFO : Parsing /diskA/jethro/acm/PROC-UIST98-1998-288392.xml\n",
      "2018-03-09 12:10:52,381 : INFO : Parsing /diskA/jethro/acm/PROC-CHIEA03-2003-765891.xml\n",
      "2018-03-09 12:10:54,939 : INFO : Parsing /diskA/jethro/acm/PROC-SAFECONFIG14-2014-2665936.xml\n",
      "2018-03-09 12:10:55,811 : INFO : Parsing /diskA/jethro/acm/PROC-ICSOC04-2004-1035167.xml\n",
      "2018-03-09 12:11:04,022 : INFO : Parsing /diskA/jethro/acm/PROC-HPMOSYS13-2013-2507908.xml\n",
      "2018-03-09 12:11:05,849 : INFO : Parsing /diskA/jethro/acm/PROC-EUROITV12-2012-2325616.xml\n",
      "2018-03-09 12:11:11,595 : INFO : Parsing /diskA/jethro/acm/PROC-SIGMOD01-2001-375663.xml\n",
      "2018-03-09 12:11:22,483 : INFO : Parsing /diskA/jethro/acm/PROC-SIGMETRICS05-2005-1064212.xml\n",
      "2018-03-09 12:11:33,325 : INFO : Parsing /diskA/jethro/acm/PROC-WIDM08-2008-1458502.xml\n",
      "2018-03-09 12:11:37,242 : INFO : Parsing /diskA/jethro/acm/PROC-MM38SEC10-2010-1854229.xml\n",
      "2018-03-09 12:11:42,063 : INFO : Parsing /diskA/jethro/acm/PROC-SESENA12-2012-2667049.xml\n",
      "2018-03-09 12:11:42,067 : INFO : Parsing /diskA/jethro/acm/PROC-JCDL01-2001-379437.xml\n",
      "2018-03-09 12:11:51,429 : INFO : Parsing /diskA/jethro/acm/PROC-CFI14-2014-2619287.xml\n",
      "2018-03-09 12:11:53,405 : INFO : Parsing /diskA/jethro/acm/PROC-SASN04-2004-1029102.xml\n",
      "2018-03-09 12:11:56,425 : INFO : Parsing /diskA/jethro/acm/PROC-MOBILEHCI07-2007-1377999.xml\n",
      "2018-03-09 12:11:56,426 : INFO : Unable to parse /diskA/jethro/acm/PROC-MOBILEHCI07-2007-1377999.xml\n"
     ]
    }
   ],
   "source": [
    "from urop.nlp import clean_text\n",
    "clean_texts = [clean_text(text) for text in texts]"
   ]
  },
  {
   "cell_type": "code",
   "execution_count": 11,
   "metadata": {},
   "outputs": [
    {
     "name": "stderr",
     "output_type": "stream",
     "text": [
      "2018-03-09 12:11:56,440 : INFO : adding document #0 to Dictionary(0 unique tokens: [])\n",
      "2018-03-09 12:11:57,384 : INFO : built Dictionary(126956 unique tokens: ['absence', 'absorption', 'abstraction', 'access', 'account']...) from 2338 documents (total 2434525 corpus positions)\n"
     ]
    }
   ],
   "source": [
    "from gensim import corpora\n",
    "dct = corpora.Dictionary(clean_texts)"
   ]
  },
  {
   "cell_type": "code",
   "execution_count": 14,
   "metadata": {},
   "outputs": [],
   "source": [
    "corpus = [dct.doc2bow(text) for text in clean_texts]"
   ]
  },
  {
   "cell_type": "code",
   "execution_count": 15,
   "metadata": {},
   "outputs": [
    {
     "name": "stderr",
     "output_type": "stream",
     "text": [
      "2018-03-09 12:12:29,302 : INFO : discarding 107849 tokens: [('analysis', 1179), ('application', 1390), ('approach', 1432), ('asearlyas', 1), ('aslateas', 1), ('backpressure', 2), ('bekooij', 2), ('bilsen', 2), ('businterface', 1), ('carinfotainment', 1)]...\n",
      "2018-03-09 12:12:29,302 : INFO : keeping 19107 tokens which were in no less than 3 and no more than 1169 (=50.0%) documents\n",
      "2018-03-09 12:12:29,330 : INFO : resulting dictionary: Dictionary(19107 unique tokens: ['absence', 'absorption', 'abstraction', 'access', 'account']...)\n",
      "2018-03-09 12:12:29,336 : INFO : saving Dictionary object under /diskA/jethro/acm//dictionary.pkl, separately None\n",
      "2018-03-09 12:12:29,341 : INFO : saved /diskA/jethro/acm//dictionary.pkl\n"
     ]
    }
   ],
   "source": [
    "dct.filter_extremes(no_below=3, no_above=0.5)\n",
    "dct.save(f'{PATH}/dictionary.pkl')"
   ]
  },
  {
   "cell_type": "code",
   "execution_count": 17,
   "metadata": {},
   "outputs": [
    {
     "name": "stderr",
     "output_type": "stream",
     "text": [
      "2018-03-09 12:12:49,174 : INFO : storing corpus in Matrix Market format to /diskA/jethro/acm//corpus.mm\n",
      "2018-03-09 12:12:49,175 : INFO : saving sparse matrix to /diskA/jethro/acm//corpus.mm\n",
      "2018-03-09 12:12:49,176 : INFO : PROGRESS: saving document #0\n",
      "2018-03-09 12:12:49,471 : INFO : PROGRESS: saving document #1000\n",
      "2018-03-09 12:12:49,734 : INFO : PROGRESS: saving document #2000\n",
      "2018-03-09 12:12:49,840 : INFO : saved 2338x126956 matrix, density=0.252% (747740/296823128)\n",
      "2018-03-09 12:12:49,841 : INFO : saving MmCorpus index to /diskA/jethro/acm//corpus.mm.index\n"
     ]
    }
   ],
   "source": [
    "from gensim.corpora.mmcorpus import MmCorpus\n",
    "MmCorpus.serialize(f'{PATH}/corpus.mm', corpus)"
   ]
  },
  {
   "cell_type": "code",
   "execution_count": null,
   "metadata": {},
   "outputs": [],
   "source": []
  }
 ],
 "metadata": {
  "kernelspec": {
   "display_name": "Python 3",
   "language": "python",
   "name": "python3"
  },
  "language_info": {
   "codemirror_mode": {
    "name": "ipython",
    "version": 3
   },
   "file_extension": ".py",
   "mimetype": "text/x-python",
   "name": "python",
   "nbconvert_exporter": "python",
   "pygments_lexer": "ipython3",
   "version": "3.6.3"
  }
 },
 "nbformat": 4,
 "nbformat_minor": 2
}
